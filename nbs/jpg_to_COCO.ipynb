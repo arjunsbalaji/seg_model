{
 "cells": [
  {
   "cell_type": "markdown",
   "metadata": {},
   "source": [
    "# COCO-ify Dissection Dataset"
   ]
  },
  {
   "cell_type": "markdown",
   "metadata": {},
   "source": [
    "https://github.com/waspinator/pycococreator/blob/master/examples/shapes/shapes_to_coco.py for reference "
   ]
  },
  {
   "cell_type": "markdown",
   "metadata": {},
   "source": [
    "DOCKER FILE: abalajiaus/oct_ca:latest-fire or abalajiaus/oct_ca:latest-fire"
   ]
  },
  {
   "cell_type": "code",
   "execution_count": 1,
   "metadata": {},
   "outputs": [
    {
     "name": "stdout",
     "output_type": "stream",
     "text": [
      "Collecting git+git://github.com/waspinator/pycococreator.git@0.2.0\n",
      "  Cloning git://github.com/waspinator/pycococreator.git (to revision 0.2.0) to /tmp/pip-req-build-4cjjltbc\n",
      "  Running command git clone -q git://github.com/waspinator/pycococreator.git /tmp/pip-req-build-4cjjltbc\n",
      "  Running command git checkout -q fba8f4098f3c7aaa05fe119dc93bbe4063afdab8\n",
      "Requirement already satisfied: numpy in /opt/conda/lib/python3.6/site-packages (from pycococreatortools==0.2.0) (1.16.5)\n",
      "Requirement already satisfied: pillow in /opt/conda/lib/python3.6/site-packages (from pycococreatortools==0.2.0) (7.0.0)\n",
      "Collecting scikit-image\n",
      "  Downloading scikit_image-0.17.2-cp36-cp36m-manylinux1_x86_64.whl (12.4 MB)\n",
      "\u001b[K     |################################| 12.4 MB 12.3 MB/s eta 0:00:01\n",
      "\u001b[?25hCollecting tifffile>=2019.7.26\n",
      "  Downloading tifffile-2020.5.30-py3-none-any.whl (133 kB)\n",
      "\u001b[K     |################################| 133 kB 14.3 MB/s eta 0:00:01\n",
      "\u001b[?25hRequirement already satisfied: matplotlib!=3.0.0,>=2.0.0 in /opt/conda/lib/python3.6/site-packages (from scikit-image->pycococreatortools==0.2.0) (3.2.1)\n",
      "Requirement already satisfied: scipy>=1.0.1 in /opt/conda/lib/python3.6/site-packages (from scikit-image->pycococreatortools==0.2.0) (1.4.1)\n",
      "Collecting imageio>=2.3.0\n",
      "  Downloading imageio-2.8.0-py3-none-any.whl (3.3 MB)\n",
      "\u001b[K     |################################| 3.3 MB 8.7 MB/s eta 0:00:01\n",
      "\u001b[?25hCollecting PyWavelets>=1.1.1\n",
      "  Downloading PyWavelets-1.1.1-cp36-cp36m-manylinux1_x86_64.whl (4.4 MB)\n",
      "\u001b[K     |################################| 4.4 MB 8.0 MB/s eta 0:00:01\n",
      "\u001b[?25hCollecting networkx>=2.0\n",
      "  Downloading networkx-2.4-py3-none-any.whl (1.6 MB)\n",
      "\u001b[K     |################################| 1.6 MB 14.6 MB/s eta 0:00:01\n",
      "\u001b[?25hRequirement already satisfied: python-dateutil>=2.1 in /opt/conda/lib/python3.6/site-packages (from matplotlib!=3.0.0,>=2.0.0->scikit-image->pycococreatortools==0.2.0) (2.8.1)\n",
      "Requirement already satisfied: cycler>=0.10 in /opt/conda/lib/python3.6/site-packages (from matplotlib!=3.0.0,>=2.0.0->scikit-image->pycococreatortools==0.2.0) (0.10.0)\n",
      "Requirement already satisfied: kiwisolver>=1.0.1 in /opt/conda/lib/python3.6/site-packages (from matplotlib!=3.0.0,>=2.0.0->scikit-image->pycococreatortools==0.2.0) (1.2.0)\n",
      "Requirement already satisfied: pyparsing!=2.0.4,!=2.1.2,!=2.1.6,>=2.0.1 in /opt/conda/lib/python3.6/site-packages (from matplotlib!=3.0.0,>=2.0.0->scikit-image->pycococreatortools==0.2.0) (2.4.7)\n",
      "Requirement already satisfied: decorator>=4.3.0 in /opt/conda/lib/python3.6/site-packages (from networkx>=2.0->scikit-image->pycococreatortools==0.2.0) (4.4.2)\n",
      "Requirement already satisfied: six>=1.5 in /opt/conda/lib/python3.6/site-packages (from python-dateutil>=2.1->matplotlib!=3.0.0,>=2.0.0->scikit-image->pycococreatortools==0.2.0) (1.14.0)\n",
      "Building wheels for collected packages: pycococreatortools\n",
      "  Building wheel for pycococreatortools (setup.py) ... \u001b[?25ldone\n",
      "\u001b[?25h  Created wheel for pycococreatortools: filename=pycococreatortools-0.2.0-py3-none-any.whl size=7187 sha256=a02ff7468db67c7bb89c75c8ccbf84298fc8df3569798dbada435307eba3483e\n",
      "  Stored in directory: /tmp/pip-ephem-wheel-cache-eumt2gp_/wheels/31/49/b4/603bcbbca4b264e0f1189ebc2db4352d8a5720d746fc6c799c\n",
      "Successfully built pycococreatortools\n",
      "Installing collected packages: tifffile, imageio, PyWavelets, networkx, scikit-image, pycococreatortools\n",
      "Successfully installed PyWavelets-1.1.1 imageio-2.8.0 networkx-2.4 pycococreatortools-0.2.0 scikit-image-0.17.2 tifffile-2020.5.30\n",
      "CPU times: user 416 ms, sys: 128 ms, total: 544 ms\n",
      "Wall time: 11.1 s\n"
     ]
    }
   ],
   "source": [
    "%%time\n",
    "!pip install git+git://github.com/waspinator/pycococreator.git@0.2.0"
   ]
  },
  {
   "cell_type": "code",
   "execution_count": 2,
   "metadata": {},
   "outputs": [
    {
     "name": "stdout",
     "output_type": "stream",
     "text": [
      "Collecting git+git://github.com/waspinator/coco.git@2.1.0\n",
      "  Cloning git://github.com/waspinator/coco.git (to revision 2.1.0) to /tmp/pip-req-build-6yvzz32g\n",
      "  Running command git clone -q git://github.com/waspinator/coco.git /tmp/pip-req-build-6yvzz32g\n",
      "  Running command git checkout -q cd69b031a5dafdd40c0b2c52bd4a9c5d7f11382e\n",
      "Requirement already satisfied: numpy in /opt/conda/lib/python3.6/site-packages (from pycocotools==2.1) (1.16.5)\n",
      "Requirement already satisfied: cython in /opt/conda/lib/python3.6/site-packages (from pycocotools==2.1) (0.29.16)\n",
      "Building wheels for collected packages: pycocotools\n",
      "  Building wheel for pycocotools (setup.py) ... \u001b[?25ldone\n",
      "\u001b[?25h  Created wheel for pycocotools: filename=pycocotools-2.1-cp36-cp36m-linux_x86_64.whl size=299494 sha256=2ffbb51925e96d569db6f814205b6ee01a1a35bd769f457aeebd5447e3cd7c15\n",
      "  Stored in directory: /tmp/pip-ephem-wheel-cache-b75p9_u6/wheels/6a/fc/7d/91a76da8191691d4dc7c7144306007ce6472cb24f51051603e\n",
      "Successfully built pycocotools\n",
      "Installing collected packages: pycocotools\n",
      "  Attempting uninstall: pycocotools\n",
      "    Found existing installation: pycocotools 2.0\n",
      "    Uninstalling pycocotools-2.0:\n",
      "      Successfully uninstalled pycocotools-2.0\n",
      "Successfully installed pycocotools-2.1\n",
      "CPU times: user 190 ms, sys: 42.9 ms, total: 233 ms\n",
      "Wall time: 9.23 s\n"
     ]
    }
   ],
   "source": [
    "%%time\n",
    "!pip install git+git://github.com/waspinator/coco.git@2.1.0"
   ]
  },
  {
   "cell_type": "code",
   "execution_count": 3,
   "metadata": {},
   "outputs": [],
   "source": [
    "from pycocotools.coco import COCO\n",
    "import pycococreatortools.pycococreatortools as creator"
   ]
  },
  {
   "cell_type": "code",
   "execution_count": 4,
   "metadata": {},
   "outputs": [],
   "source": [
    "import pycocotools.mask as m"
   ]
  },
  {
   "cell_type": "code",
   "execution_count": null,
   "metadata": {},
   "outputs": [],
   "source": [
    "!pip install fastai"
   ]
  },
  {
   "cell_type": "code",
   "execution_count": 25,
   "metadata": {},
   "outputs": [],
   "source": [
    "from pathlib import Path\n",
    "from fastai.vision import get_files\n",
    "import PIL.Image as Image\n",
    "import numpy as np\n",
    "import matplotlib.pyplot as plt\n",
    "import datetime\n",
    "import json\n",
    "from scipy.ndimage.measurements import label\n",
    "import os\n",
    "import shutil"
   ]
  },
  {
   "cell_type": "code",
   "execution_count": 45,
   "metadata": {},
   "outputs": [],
   "source": [
    "def OCTDataToCOCO(im_path):\n",
    "    INFO = {\n",
    "        \"description\": \"OCT dataset\",\n",
    "        \"url\": \"tba\",\n",
    "        \"version\": \"0.1.0\",\n",
    "        \"year\": 2020,\n",
    "        \"contributor\": \"abalajiaus\",\n",
    "        \"date_created\": datetime.datetime.utcnow().isoformat(' ')\n",
    "    }\n",
    "\n",
    "    LICENSES = [\n",
    "        {\n",
    "            \"id\": 1,\n",
    "            \"name\": \"VASCLAB\",\n",
    "            \"url\": \"VASCLAB\"\n",
    "        }\n",
    "    ]\n",
    "\n",
    "    CATEGORIES = [\n",
    "        {\n",
    "            'id': 1,\n",
    "            'name': 'lumen',\n",
    "            'supercategory': 'feature',\n",
    "        }\n",
    "\n",
    "    ]\n",
    "    coco = {\n",
    "            \"info\": INFO,\n",
    "            \"licenses\": LICENSES,\n",
    "            \"categories\": CATEGORIES,\n",
    "            \"images\": [],\n",
    "            \"annotations\": []}\n",
    "    \n",
    "    label_path = im_path.parent/'labels'\n",
    "    i=1\n",
    "    anno_id = 0 #anno_id has to be unique\n",
    "    for image_path in get_files(im_path, extensions='.jpg'):\n",
    "        image = Image.open(image_path)\n",
    "        image_id = image_path.name\n",
    "        anno_path = label_path/image_id\n",
    "        gt = Image.open(anno_path)\n",
    "\n",
    "        assert (anno_path.stem == image_path.stem) # make sure label and image are corresponding\n",
    "        assert (gt.size==image.size)\n",
    "        gt = (np.array(gt)>200).astype(int)[:,:,0]\n",
    "        assert (np.array_equal(gt, gt.astype(bool))) #make sure label is binary\n",
    "\n",
    "        lab, num_instances = label(gt)\n",
    "\n",
    "        image_info = creator.create_image_info(i,\n",
    "                                                str(image_path),\n",
    "                                                image.size)\n",
    "        \n",
    "        image_info['annotations'] = []\n",
    "        \n",
    "        for n in range(num_instances):\n",
    "            tl=(lab==(n+1)).astype(int)\n",
    "            category_info = {'id': 1, 'is_crowd': 0} #play with 1 or 0 here\n",
    "            annotation_info = creator.create_annotation_info(anno_id,\n",
    "                                                             i,\n",
    "                                                             category_info,\n",
    "                                                             tl,\n",
    "                                                             image_size=image.size,\n",
    "                                                             tolerance=1)\n",
    "\n",
    "            if annotation_info is not None:\n",
    "                annotation_info['bbox_mode']=0\n",
    "                coco['annotations'].append(annotation_info)\n",
    "                image_info['annotations'].append(annotation_info)\n",
    "                anno_id+=1\n",
    "        \n",
    "        \n",
    "        image_info['image_id'] = i\n",
    "        image_info['sem_seg_file_name'] = str(anno_path)\n",
    "        coco['images'].append(image_info)\n",
    "        \n",
    "        #if num_instances>1:\n",
    "        #    pdb.set_trace()    \n",
    "            \n",
    "        #    return (image, image_info, l, tl, annotation_info)\n",
    "        #    \n",
    "        '''if annotation_info is not None:\n",
    "            coco['annotations'].append(annotation_info)'''\n",
    "        i+=1\n",
    "        #if i%1000==0: print(i)\n",
    "    return coco"
   ]
  },
  {
   "cell_type": "markdown",
   "metadata": {},
   "source": [
    "## Reformat data structure to include train, validation, test\n"
   ]
  },
  {
   "cell_type": "code",
   "execution_count": 48,
   "metadata": {},
   "outputs": [],
   "source": [
    "original_data_path = Path('/workspace/oct_ca_seg/data_oct/')"
   ]
  },
  {
   "cell_type": "code",
   "execution_count": 33,
   "metadata": {},
   "outputs": [],
   "source": [
    "def make_data_dirs(coco_path, override=False):\n",
    "    if override:\n",
    "        shutil.rmtree(coco_path)\n",
    "    \n",
    "    os.mkdir(coco_path)\n",
    "    for each in ['train', 'valid', 'test']:\n",
    "        each_dir = coco_path/each\n",
    "        os.mkdir(each_dir)\n",
    "        os.mkdir(each_dir/'images')\n",
    "        os.mkdir(each_dir/'labels')    "
   ]
  },
  {
   "cell_type": "code",
   "execution_count": 81,
   "metadata": {},
   "outputs": [],
   "source": [
    "COCO_path = Path('/workspace/oct_ca_seg/COCOdata/')\n",
    "make_data_dirs(COCO_path, override=True)\n",
    "train = COCO_path/'train'\n",
    "valid = COCO_path/'valid'\n",
    "test = COCO_path/'test'"
   ]
  },
  {
   "cell_type": "code",
   "execution_count": 82,
   "metadata": {},
   "outputs": [
    {
     "name": "stdout",
     "output_type": "stream",
     "text": [
      "CPU times: user 2.13 s, sys: 1.31 s, total: 3.44 s\n",
      "Wall time: 3.47 s\n"
     ]
    }
   ],
   "source": [
    "%%time\n",
    "for d in get_files(original_data_path, recurse=True, extensions='.jpg'):\n",
    "    #print(d.stem, d.parent.name)\n",
    "    stem = int(d.stem)\n",
    "    parent = d.parent.name\n",
    "    \n",
    "\n",
    "    if stem <8500: t = train\n",
    "    elif stem > 8500 and stem <11000: t = valid\n",
    "    elif stem >11000 and stem <12011: t = test\n",
    "    \n",
    "    dest = t/(parent + '/' + d.name)\n",
    "    shutil.copy(d, dest)"
   ]
  },
  {
   "cell_type": "code",
   "execution_count": 83,
   "metadata": {},
   "outputs": [
    {
     "data": {
      "text/plain": [
       "12011"
      ]
     },
     "execution_count": 83,
     "metadata": {},
     "output_type": "execute_result"
    }
   ],
   "source": [
    "8500+2500+1011"
   ]
  },
  {
   "cell_type": "code",
   "execution_count": 84,
   "metadata": {},
   "outputs": [
    {
     "name": "stdout",
     "output_type": "stream",
     "text": [
      "CPU times: user 2min 38s, sys: 1.01 s, total: 2min 39s\n",
      "Wall time: 2min 41s\n"
     ]
    }
   ],
   "source": [
    "%%time\n",
    "trains = OCTDataToCOCO(train/'images')"
   ]
  },
  {
   "cell_type": "code",
   "execution_count": 85,
   "metadata": {},
   "outputs": [
    {
     "data": {
      "text/plain": [
       "(8502, 8502)"
      ]
     },
     "execution_count": 85,
     "metadata": {},
     "output_type": "execute_result"
    }
   ],
   "source": [
    "len(trains['images']), len(trains['annotations'])"
   ]
  },
  {
   "cell_type": "code",
   "execution_count": 86,
   "metadata": {},
   "outputs": [
    {
     "name": "stdout",
     "output_type": "stream",
     "text": [
      "CPU times: user 44.1 s, sys: 347 ms, total: 44.4 s\n",
      "Wall time: 45 s\n"
     ]
    }
   ],
   "source": [
    "%%time\n",
    "valids = OCTDataToCOCO(valid/'images')"
   ]
  },
  {
   "cell_type": "code",
   "execution_count": 87,
   "metadata": {},
   "outputs": [
    {
     "data": {
      "text/plain": [
       "(2499, 2499)"
      ]
     },
     "execution_count": 87,
     "metadata": {},
     "output_type": "execute_result"
    }
   ],
   "source": [
    "len(valids['images']), len(valids['annotations'])"
   ]
  },
  {
   "cell_type": "code",
   "execution_count": 88,
   "metadata": {},
   "outputs": [
    {
     "name": "stdout",
     "output_type": "stream",
     "text": [
      "CPU times: user 17.4 s, sys: 132 ms, total: 17.5 s\n",
      "Wall time: 17.8 s\n"
     ]
    }
   ],
   "source": [
    "%%time\n",
    "tests = OCTDataToCOCO(test/'images')"
   ]
  },
  {
   "cell_type": "code",
   "execution_count": 89,
   "metadata": {},
   "outputs": [
    {
     "data": {
      "text/plain": [
       "(1010, 1010)"
      ]
     },
     "execution_count": 89,
     "metadata": {},
     "output_type": "execute_result"
    }
   ],
   "source": [
    "len(tests['images']), len(tests['annotations'])"
   ]
  },
  {
   "cell_type": "code",
   "execution_count": 19,
   "metadata": {},
   "outputs": [
    {
     "data": {
      "text/plain": [
       "dict_keys(['id', 'file_name', 'width', 'height', 'date_captured', 'license', 'coco_url', 'flickr_url', 'annotations', 'image_id', 'sem_seg_file_name'])"
      ]
     },
     "execution_count": 19,
     "metadata": {},
     "output_type": "execute_result"
    }
   ],
   "source": [
    "valids['images'][10].keys()"
   ]
  },
  {
   "cell_type": "code",
   "execution_count": 90,
   "metadata": {},
   "outputs": [],
   "source": [
    "with open(train/'images/annotations.json', 'w') as output_json_file:\n",
    "    json.dump(trains, output_json_file)"
   ]
  },
  {
   "cell_type": "code",
   "execution_count": 91,
   "metadata": {},
   "outputs": [],
   "source": [
    "with open(valid/'images/annotations.json', 'w') as output_json_file:\n",
    "    json.dump(valids, output_json_file)"
   ]
  },
  {
   "cell_type": "code",
   "execution_count": 92,
   "metadata": {},
   "outputs": [],
   "source": [
    "with open(test/'images/annotations.json', 'w') as output_json_file:\n",
    "    json.dump(tests, output_json_file)"
   ]
  },
  {
   "cell_type": "markdown",
   "metadata": {},
   "source": [
    "Difference is because some annotations are blank and thus arent added."
   ]
  },
  {
   "cell_type": "markdown",
   "metadata": {},
   "source": [
    "# Visualise COCO dataset"
   ]
  },
  {
   "cell_type": "markdown",
   "metadata": {},
   "source": [
    "https://github.com/waspinator/pycococreator/blob/master/examples/shapes/visualize_coco.ipynb for reference"
   ]
  },
  {
   "cell_type": "code",
   "execution_count": null,
   "metadata": {},
   "outputs": [],
   "source": [
    "train"
   ]
  },
  {
   "cell_type": "code",
   "execution_count": null,
   "metadata": {},
   "outputs": [],
   "source": [
    "anno_file = train/'images/annotations.json'"
   ]
  },
  {
   "cell_type": "code",
   "execution_count": null,
   "metadata": {},
   "outputs": [],
   "source": [
    "coco_dataset = COCO(anno_file)"
   ]
  },
  {
   "cell_type": "code",
   "execution_count": null,
   "metadata": {},
   "outputs": [],
   "source": [
    "categories = coco_dataset.loadCats(coco_dataset.getCatIds())"
   ]
  },
  {
   "cell_type": "code",
   "execution_count": null,
   "metadata": {},
   "outputs": [],
   "source": [
    "categories"
   ]
  },
  {
   "cell_type": "code",
   "execution_count": null,
   "metadata": {},
   "outputs": [],
   "source": [
    "category_ids = coco_dataset.getCatIds(catNms=['lumen'])"
   ]
  },
  {
   "cell_type": "code",
   "execution_count": null,
   "metadata": {},
   "outputs": [],
   "source": [
    "category_ids"
   ]
  },
  {
   "cell_type": "code",
   "execution_count": null,
   "metadata": {},
   "outputs": [],
   "source": [
    "image_ids = coco_dataset.getImgIds(catIds=category_ids)"
   ]
  },
  {
   "cell_type": "code",
   "execution_count": null,
   "metadata": {},
   "outputs": [],
   "source": [
    "image_ids[0:5]"
   ]
  },
  {
   "cell_type": "code",
   "execution_count": null,
   "metadata": {},
   "outputs": [],
   "source": [
    "import pylab\n",
    "import skimage.io as io"
   ]
  },
  {
   "cell_type": "code",
   "execution_count": null,
   "metadata": {},
   "outputs": [],
   "source": [
    "image_data = coco_dataset.loadImgs(image_ids[np.random.randint(0, len(image_ids))])[0]\n",
    "\n",
    "# load and display instance annotations\n",
    "image = io.imread(image_data['file_name'])\n",
    "\n",
    "plt.imshow(image); plt.axis('off')\n",
    "pylab.rcParams['figure.figsize'] = (8.0, 10.0)\n",
    "annotation_ids = coco_dataset.getAnnIds(imgIds=image_data['id'], catIds=category_ids, iscrowd=None)\n",
    "annotations = coco_dataset.loadAnns(annotation_ids)\n",
    "coco_dataset.showAnns(annotations)"
   ]
  },
  {
   "cell_type": "code",
   "execution_count": null,
   "metadata": {},
   "outputs": [],
   "source": []
  }
 ],
 "metadata": {
  "kernelspec": {
   "display_name": "Python 3",
   "language": "python",
   "name": "python3"
  },
  "language_info": {
   "codemirror_mode": {
    "name": "ipython",
    "version": 3
   },
   "file_extension": ".py",
   "mimetype": "text/x-python",
   "name": "python",
   "nbconvert_exporter": "python",
   "pygments_lexer": "ipython3",
   "version": "3.6.9"
  }
 },
 "nbformat": 4,
 "nbformat_minor": 4
}
