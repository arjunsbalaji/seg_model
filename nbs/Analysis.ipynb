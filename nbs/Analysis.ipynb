{
 "cells": [
  {
   "cell_type": "markdown",
   "metadata": {},
   "source": [
    "# oct arjcaps analysis"
   ]
  },
  {
   "cell_type": "markdown",
   "metadata": {},
   "source": [
    "The purpose of this document is to showcase how we train, validate and analyse the oct capsnet. Note that this is on top of the scripts in seg_model, which are related to building the capsnet body."
   ]
  },
  {
   "cell_type": "code",
   "execution_count": 1,
   "metadata": {},
   "outputs": [],
   "source": [
    "import os\n",
    "from fastai.vision import *\n",
    "from fastai.callbacks import * "
   ]
  },
  {
   "cell_type": "code",
   "execution_count": 2,
   "metadata": {},
   "outputs": [],
   "source": [
    "os.chdir(Path('/workspace/oct_ca_seg/'))"
   ]
  },
  {
   "cell_type": "code",
   "execution_count": 3,
   "metadata": {},
   "outputs": [],
   "source": [
    "#export\n",
    "from fastai.vision import *\n",
    "from fastai.metrics import *\n",
    "import torch.nn as nn\n",
    "import numpy as np\n",
    "import PIL.Image as pil\n",
    "import torch.functional as F\n",
    "from fastai.utils.mem import *\n",
    "from pathlib import Path\n",
    "import itertools\n",
    "import sys\n",
    "import seg_model.src.model as m\n",
    "import skimage.transform as skitra\n",
    "from oct_ca.exp.nb_caps import one_group_selective_freeze"
   ]
  },
  {
   "cell_type": "code",
   "execution_count": 4,
   "metadata": {},
   "outputs": [],
   "source": [
    "data_path = Path('/workspace/oct_ca_seg/data_oct')"
   ]
  },
  {
   "cell_type": "code",
   "execution_count": 5,
   "metadata": {},
   "outputs": [],
   "source": [
    "valid_names = list(np.load(Path('/workspace/oct_ca_seg/runsaves/Final1-pawsey/analysis/testNAMES.npy')))"
   ]
  },
  {
   "cell_type": "code",
   "execution_count": 6,
   "metadata": {},
   "outputs": [],
   "source": [
    "for i, name in enumerate(valid_names):\n",
    "    name = Path(data_path/('images/' + name[:-4] + '.jpg'))\n",
    "    valid_names[i] = name"
   ]
  },
  {
   "cell_type": "code",
   "execution_count": 7,
   "metadata": {},
   "outputs": [],
   "source": [
    "class SegLabelListCustom(SegmentationLabelList):\n",
    "    def open(self, fn): return open_oct_mask(fn)\n",
    "\n",
    "class SegItemListCustom(SegmentationItemList):\n",
    "    _label_cls = SegLabelListCustom"
   ]
  },
  {
   "cell_type": "markdown",
   "metadata": {},
   "source": [
    "I have a pretrained capsnet body, so I also need to load which images I used the model on to train and validate, it wouldn't be fair to start validating on images the model has previously seen in the training phase."
   ]
  },
  {
   "cell_type": "code",
   "execution_count": 8,
   "metadata": {},
   "outputs": [
    {
     "name": "stdout",
     "output_type": "stream",
     "text": [
      "CPU times: user 13.8 s, sys: 0 ns, total: 13.8 s\n",
      "Wall time: 13.8 s\n"
     ]
    }
   ],
   "source": [
    "%%time\n",
    "def load_name_sets(path, valid_names):\n",
    "    allnames = get_image_files(path)\n",
    "    train = []\n",
    "    valid= []\n",
    "    for i, name in enumerate(allnames):\n",
    "        if name in valid_names: valid.append(name)\n",
    "        else: train.append(name)\n",
    "    return train, valid\n",
    "            \n",
    "train, valid = load_name_sets(data_path/'images', valid_names)"
   ]
  },
  {
   "cell_type": "markdown",
   "metadata": {},
   "source": [
    "path_img = data_path/'images'\n",
    "\n",
    "get_y_fn = lambda x: data_path/'labels'/x.name\n",
    "\n",
    "saved_us, saved_stds = ([0.2158, 0.1964, 0.1908], [0.0418, 0.0194, 0.0138])\n",
    "saved_stats = (saved_us, saved_stds)\n",
    "\n",
    "src = (SegItemListCustom.from_folder(path_img)\n",
    "       .split_by_idxs(train_idx=trainidx, valid_idx=valididx)\n",
    "       .label_from_func(get_y_fn,classes=['background','lumen']))\n",
    "\n",
    "metrics=[acc,sens,spec,mydice]\n",
    "size=256\n",
    "bs=1\n",
    "data = (src.transform(get_transforms(), size=size, tfm_y=True)\n",
    "        .databunch(bs=bs, num_workers=4)\n",
    "        .normalize(saved_stats))"
   ]
  },
  {
   "cell_type": "markdown",
   "metadata": {},
   "source": [
    "### Loading Original Dataset"
   ]
  },
  {
   "cell_type": "code",
   "execution_count": 9,
   "metadata": {},
   "outputs": [],
   "source": [
    "from seg_model.nbs.useful.dataset import *"
   ]
  },
  {
   "cell_type": "code",
   "execution_count": 10,
   "metadata": {},
   "outputs": [],
   "source": [
    "opts = {'activation': 'relu',\n",
    "'batch_size': 2,\n",
    "'c_size': (256, 256),\n",
    "'cuda' : True,\n",
    "'dataroot': '/workspace/oct_ca_seg/data_oct',\n",
    "'start_size': (256, 256),\n",
    "'device': 'cuda',\n",
    "'input_images': [0,1,2],\n",
    "'transforms':False,      \n",
    "'dims1': 24,\n",
    "'dims2': 32,\n",
    "'dims3': 48,\n",
    "'epochs': 40,\n",
    "'f1dims': 32,\n",
    "'f1maps': 2,\n",
    "'f2dims': 16,\n",
    "'f2maps': 1,\n",
    "'inputchannels': 3,\n",
    "'normalization': 'batch',\n",
    "'primdims': 16,\n",
    "'primmaps': 4,\n",
    "'reconchannels': 1,\n",
    "'maps1': 8,\n",
    "'maps2': 16,\n",
    "'maps3': 24,\n",
    "'uptype': 'deconv',\n",
    "}"
   ]
  },
  {
   "cell_type": "code",
   "execution_count": 11,
   "metadata": {},
   "outputs": [],
   "source": [
    "optsagain = {'activation': 'relu',\n",
    "'batch_size': 2,\n",
    "'c_size': (256, 256),\n",
    "'comet': False,\n",
    "'dataroot': '/workspace/oct_ca_seg/data_oct',\n",
    "'device': 'cuda',\n",
    "'dims1': 24,\n",
    "'dims2': 32,\n",
    "'dims3': 48,\n",
    "'epochs': 40,\n",
    "'f1dims': 32,\n",
    "'f1maps': 2,\n",
    "'f2dims': 16,\n",
    "'f2maps': 2,\n",
    "'inputchannels': 3,\n",
    "'la': 0.1,\n",
    "'lb': 1,\n",
    "'lc': 0.05,\n",
    "'loadcheckpoint': '/workspace/oct_ca_seg/runsaves/Final1-pawsey/checkpoints/checkpoint.pt',\n",
    "'location': 'pawsey',\n",
    "'logging': True,\n",
    "'lr': 0.0008,\n",
    "'maps1': 8,\n",
    "'maps2': 16,\n",
    "'maps3': 24,\n",
    "'nThreads': 8,\n",
    "'name': 'Final1-pawsey',\n",
    "'normalization': 'batch',\n",
    "'primdims': 16,\n",
    "'primmaps': 4,\n",
    "'reconchannels': 1,\n",
    "'runsaves_dir': '/group/pawsey0271/abalaji/projects/oct_ca_seg/run_saves',\n",
    "'save': True,\n",
    "'sgamma': 0.8,\n",
    "'sstep': 50,\n",
    "'start_size': (256, 256),\n",
    "'test': True,\n",
    "'train': True,\n",
    "'transforms': True,\n",
    "'uptype': 'deconv',\n",
    "'val': True,\n",
    "'verbose': True}"
   ]
  },
  {
   "cell_type": "markdown",
   "metadata": {},
   "source": [
    "### Loading capsnet body options."
   ]
  },
  {
   "cell_type": "code",
   "execution_count": 12,
   "metadata": {},
   "outputs": [],
   "source": [
    "class Options():\n",
    "    def __init__(self, dictionary):\n",
    "        \n",
    "        for k,v in dictionary.items():\n",
    "            setattr(self, k, v)"
   ]
  },
  {
   "cell_type": "code",
   "execution_count": 13,
   "metadata": {},
   "outputs": [],
   "source": [
    "opts = Options(opts)\n",
    "optsagain = Options(optsagain)"
   ]
  },
  {
   "cell_type": "markdown",
   "metadata": {},
   "source": [
    "# Dataset"
   ]
  },
  {
   "cell_type": "code",
   "execution_count": 14,
   "metadata": {},
   "outputs": [],
   "source": [
    "def normalize(octimage):\n",
    "    means = octimage.view(3,-1).mean(-1)\n",
    "    stds = octimage.view(3,-1).std(-1)\n",
    "    return (octimage - means[:,None,None])/stds[:,None,None]"
   ]
  },
  {
   "cell_type": "code",
   "execution_count": 15,
   "metadata": {},
   "outputs": [],
   "source": [
    "#dataset class\n",
    "class OCTDataset(Dataset):\n",
    "    \"\"\"\n",
    "    First we create a dataset that will encapsulate our data. It has 3 special \n",
    "    functions which will be explained as they go. We will pass this dataset object\n",
    "    to the torch dataloader object later which will make training easier.\n",
    "    \"\"\"\n",
    "    def __init__ (self,\n",
    "                  main_data_dir,\n",
    "                  name_list,\n",
    "                  start_size,\n",
    "                  cropped_size,\n",
    "                  transform,\n",
    "                  input_images,\n",
    "                  cuda):\n",
    "        self.nl = name_list\n",
    "        self.main_data_dir = main_data_dir\n",
    "        self.start_size = start_size\n",
    "        self.transform = transform\n",
    "        self.cropped_size = cropped_size\n",
    "        self.input_images = input_images\n",
    "        self.cuda = cuda\n",
    "        \n",
    "        self.rcrop = RandomCrop(self.cropped_size)\n",
    "        self.phflip = np.random.rand()\n",
    "        self.pvflip = np.random.rand()\n",
    "        self.spnoise = SPNoise(1)\n",
    "        \n",
    "        '''\n",
    "        #iterate through the 2d images and get all their names\n",
    "        name_list = []\n",
    "        for im in os.listdir(os.path.join(self.main_data_dir, 'images')):\n",
    "            filename = os.fsdecode(im)\n",
    "            name_list.append(filename)\n",
    "        ''' \n",
    "        self.name_list = name_list\n",
    "        \n",
    "    def visualise(self, idx):\n",
    "        \n",
    "        sample = self.__getitem__(idx)\n",
    "        #print(sample['input'].size())\n",
    "        #print(sample['label'].size())\n",
    "        input_data = sample['input'].cpu().numpy()[0,:,:]\n",
    "        l_data = sample['label'].cpu().numpy()[0,:,:]\n",
    "\n",
    "        \n",
    "        \n",
    "        f, (axin, axl, ax1comb) = plt.subplots(1,3, sharey=True)\n",
    "        f.subplots_adjust(hspace=0.3)\n",
    "        plt.tight_layout()\n",
    "        \n",
    "        #plot image\n",
    "        image = axin.imshow(input_data,\n",
    "                            aspect = 'equal')\n",
    "        f.colorbar(image, ax=axin, orientation='vertical', fraction = 0.05)\n",
    "        \n",
    "        axl.imshow(l_data,\n",
    "                   aspect = 'equal')\n",
    "        \n",
    "        \n",
    "        combined = input_data + 10 * l_data \n",
    "        \n",
    "        ax1comb.imshow(combined, aspect = 'equal')\n",
    "        plt.show()\n",
    "        \n",
    "    def __getitem__(self, idx):\n",
    "        \"\"\"This function will allow us to index the data object and it will \n",
    "        return a sample.\"\"\"\n",
    "        name = self.name_list[idx]\n",
    "        \n",
    "        #load data  \n",
    "        label = np.array(pil.open(name.parent.parent/str('labels/' + name.name)))\n",
    "        #print(Path('/workspace/oct_ca_seg/data_oct/labels/')/str(name))\n",
    "        #print(label.shape)\n",
    "        \n",
    "        image = np.array(pil.open(name))\n",
    "        \n",
    "        image = image.astype(float)\n",
    "        label = label.astype(float)\n",
    "        #print(image.shape)\n",
    "        \n",
    "        #print(label.max())\n",
    "        #print(Image.shape)\n",
    "        if self.transform:\n",
    "            \n",
    "            ysize = self.start_size[0] + 20\n",
    "            xsize = self.start_size[1] + 20\n",
    "            image = skitransforms.resize(image, output_shape=(ysize, xsize))\n",
    "            label = skitransforms.resize(label, output_shape=(ysize, xsize))\n",
    "            \n",
    "            \n",
    "            #print(label.shape)\n",
    "            #print(label.max())\n",
    "            image, label = self.rcrop(image, label)\n",
    "            #print(label.max())\n",
    "            \n",
    "            if self.phflip>0.5:\n",
    "                #hflip\n",
    "                image = np.flip(image, 1)\n",
    "                label = np.flip(label, 1)    \n",
    "                #print(label.max())\n",
    "            #print(label.shape)\n",
    "            \n",
    "            if self.pvflip>0.5:\n",
    "                #vflip\n",
    "                image = np.flip(image, 0)\n",
    "                label = np.flip(label, 0)\n",
    "                #print(label.max())\n",
    "            #print(label.shape)\n",
    "            \n",
    "            angle = np.random.randint(0,360)\n",
    "            image = skitransforms.rotate(image, angle=angle, mode='reflect')\n",
    "            label = skitransforms.rotate(label, angle=angle, mode='reflect')\n",
    "            #print(label.max())\n",
    "            #print(label.shape)\n",
    "            \n",
    "            if np.random.rand() > 0.9:\n",
    "                image = self.spnoise(image)\n",
    "            \n",
    "            if np.random.rand() > 0.5:\n",
    "                image = gaussian(image, sigma=1, mode='reflect')\n",
    "            \n",
    "            \n",
    "        else:\n",
    "            image = skitransforms.resize(image, output_shape= self.start_size)\n",
    "            label = skitransforms.resize(label, output_shape= self.start_size)\n",
    "        \n",
    "        #image = np.expand_dims(preprocessing.scale(image[:,:,0]), -1)\n",
    "        \n",
    "        label = np.transpose(label.copy(), (2, 0, 1))\n",
    "        image = np.transpose(image.copy(), (2, 0, 1))\n",
    "        #og = preprocessing.MinMaxScaler(og)\n",
    "        \n",
    "        label = torch.tensor(label).float()\n",
    "        \n",
    "        label = torch.gt(label.sum(dim=0).unsqueeze(0), 200).float()\n",
    "        \n",
    "        image = torch.tensor(image).float()\n",
    "        #print(image.size(), label.shape)\n",
    "        image = normalize(image)\n",
    "        \n",
    "        \n",
    "        sample = {'input': image[self.input_images],\n",
    "                  'label': label,\n",
    "                  'case_name': [str(name.name)]}\n",
    "\n",
    "        return sample\n",
    "    \n",
    "    def __len__(self):    \n",
    "        \"\"\"This function is mandated by Pytorch and allows us to see how many \n",
    "        data points we have in our dataset\"\"\"\n",
    "        return len(self.name_list)\n",
    "    \n"
   ]
  },
  {
   "cell_type": "code",
   "execution_count": 16,
   "metadata": {},
   "outputs": [],
   "source": [
    "oct_data_t = OCTDataset(data_path/'images', train, opts.start_size,opts.c_size,opts.transforms,opts.input_images, opts.cuda)\n",
    "oct_data_v = OCTDataset(data_path/'images', valid, opts.start_size,opts.c_size,opts.transforms,opts.input_images, opts.cuda)"
   ]
  },
  {
   "cell_type": "code",
   "execution_count": 17,
   "metadata": {},
   "outputs": [
    {
     "data": {
      "text/plain": [
       "9608"
      ]
     },
     "execution_count": 17,
     "metadata": {},
     "output_type": "execute_result"
    }
   ],
   "source": [
    "len(oct_data_t) "
   ]
  },
  {
   "cell_type": "code",
   "execution_count": 18,
   "metadata": {},
   "outputs": [],
   "source": [
    "oct_load_t = DataLoader(oct_data_t, batch_size=1, shuffle=False)\n",
    "oct_load_v = DataLoader(oct_data_v, batch_size=1, shuffle=False)"
   ]
  },
  {
   "cell_type": "code",
   "execution_count": 19,
   "metadata": {},
   "outputs": [
    {
     "data": {
      "text/plain": [
       "(9608, 2403)"
      ]
     },
     "execution_count": 19,
     "metadata": {},
     "output_type": "execute_result"
    }
   ],
   "source": [
    "len(oct_data_t),len(oct_data_v)"
   ]
  },
  {
   "cell_type": "code",
   "execution_count": 20,
   "metadata": {},
   "outputs": [],
   "source": [
    "model = m.CapsNet(opts);\n",
    "model.to(opts.device);\n",
    "\n",
    "modelfake = m.CapsNet(optsagain);\n",
    "modelfake.to(opts.device);"
   ]
  },
  {
   "cell_type": "markdown",
   "metadata": {},
   "source": [
    "guassian stuff below"
   ]
  },
  {
   "cell_type": "code",
   "execution_count": 21,
   "metadata": {},
   "outputs": [],
   "source": [
    "#export\n",
    "class GaussianSmoothing(nn.Module):\n",
    "    \"\"\"\n",
    "    Apply gaussian smoothing on a\n",
    "    1d, 2d or 3d tensor. Filtering is performed seperately for each channel\n",
    "    in the input using a depthwise convolution.\n",
    "    Arguments:\n",
    "        channels (int, sequence): Number of channels of the input tensors. Output will\n",
    "            have this number of channels as well.\n",
    "        kernel_size (int, sequence): Size of the gaussian kernel.\n",
    "        sigma (float, sequence): Standard deviation of the gaussian kernel.\n",
    "        dim (int, optional): The number of dimensions of the data.\n",
    "            Default value is 2 (spatial).\n",
    "    \"\"\"\n",
    "    def __init__(self, channels, kernel_size, sigma, dim=2):\n",
    "        super(GaussianSmoothing, self).__init__()\n",
    "        if isinstance(kernel_size, numbers.Number):\n",
    "            kernel_size = [kernel_size] * dim\n",
    "        if isinstance(sigma, numbers.Number):\n",
    "            sigma = [sigma] * dim\n",
    "\n",
    "        # The gaussian kernel is the product of the\n",
    "        # gaussian function of each dimension.\n",
    "        kernel = 1\n",
    "        meshgrids = torch.meshgrid(\n",
    "            [\n",
    "                torch.arange(size, dtype=torch.float32)\n",
    "                for size in kernel_size\n",
    "            ]\n",
    "        )\n",
    "        for size, std, mgrid in zip(kernel_size, sigma, meshgrids):\n",
    "            mean = (size - 1) / 2\n",
    "            kernel *= 1 / (std * math.sqrt(2 * math.pi)) * \\\n",
    "                      torch.exp(-((mgrid - mean) / std) ** 2 / 2)\n",
    "\n",
    "        # Make sure sum of values in gaussian kernel equals 1.\n",
    "        kernel = kernel / torch.sum(kernel)\n",
    "\n",
    "        # Reshape to depthwise convolutional weight\n",
    "        kernel = kernel.view(1, 1, *kernel.size())\n",
    "        kernel = kernel.repeat(channels, *[1] * (kernel.dim() - 1))\n",
    "\n",
    "        self.register_buffer('weight', kernel)\n",
    "        self.groups = channels\n",
    "\n",
    "        if dim == 1:\n",
    "            self.conv = F.conv1d\n",
    "        elif dim == 2:\n",
    "            self.conv = F.conv2d\n",
    "        elif dim == 3:\n",
    "            self.conv = F.conv3d\n",
    "        else:\n",
    "            raise RuntimeError(\n",
    "                'Only 1, 2 and 3 dimensions are supported. Received {}.'.format(dim)\n",
    "            )\n",
    "\n",
    "    def forward(self, input):\n",
    "        \"\"\"\n",
    "        Apply gaussian filter to input.\n",
    "        Arguments:\n",
    "            input (torch.Tensor): Input to apply gaussian filter on.\n",
    "        Returns:\n",
    "            filtered (torch.Tensor): Filtered output.\n",
    "        \"\"\"\n",
    "        return self.conv(input, weight=self.weight, groups=self.groups)"
   ]
  },
  {
   "cell_type": "code",
   "execution_count": 22,
   "metadata": {},
   "outputs": [],
   "source": [
    "class GaussianAndResizing(nn.Module):\n",
    "    def __init__(self, channels, kernel_size, sigma, dim=2):\n",
    "        super(GaussianAndResizing, self).__init__()\n",
    "        self.smooth = GaussianSmoothing(channels, kernel_size, sigma, dim)\n",
    "    \n",
    "    def smoothing(self, x):\n",
    "        xs = x.size()\n",
    "        #print(x.size())\n",
    "        x = x.permute(0,1,4,2,3).reshape([xs[0], int(xs[1]*xs[4]), xs[2], xs[3]])\n",
    "        #print(x.size())\n",
    "        x = self.smooth(x)\n",
    "        x=F.pad(x, (2,0,2,0), 'reflect')\n",
    "        #print(x.size())\n",
    "        x = x.view([xs[0], int(xs[1]), int(xs[4]), xs[2], xs[3]]).permute(0,1,3,4,2)\n",
    "        return x\n",
    "    \n",
    "    def forward(self,x):\n",
    "        #print(self.smoothing(x).size())\n",
    "        return self.smoothing(x)"
   ]
  },
  {
   "cell_type": "markdown",
   "metadata": {},
   "source": [
    "### Add Gaussian filter inbetween last two layers to get rid of grid artefacts. "
   ]
  },
  {
   "cell_type": "code",
   "execution_count": 23,
   "metadata": {},
   "outputs": [],
   "source": [
    "model.get_abstract_caps_final2 = nn.Sequential(modelfake.get_abstract_caps_final2, GaussianAndResizing(32, 3, 2).to(opts.device))\n",
    "model.get_abstract_caps_final1 = nn.Sequential(modelfake.get_abstract_caps_final1, GaussianAndResizing(64, 3, 2).to(opts.device))"
   ]
  },
  {
   "cell_type": "code",
   "execution_count": 24,
   "metadata": {},
   "outputs": [
    {
     "data": {
      "text/plain": [
       "<All keys matched successfully>"
      ]
     },
     "execution_count": 24,
     "metadata": {},
     "output_type": "execute_result"
    }
   ],
   "source": [
    "model.load_state_dict(torch.load(Path('/workspace/oct_ca_seg/runsaves/capstunedarj1.pt')))"
   ]
  },
  {
   "cell_type": "code",
   "execution_count": 25,
   "metadata": {},
   "outputs": [],
   "source": [
    "del modelfake"
   ]
  },
  {
   "cell_type": "markdown",
   "metadata": {},
   "source": [
    "### now I'm freezing the body and leaving only the last two layers for training."
   ]
  },
  {
   "cell_type": "code",
   "execution_count": 27,
   "metadata": {},
   "outputs": [],
   "source": [
    "model = one_group_selective_freeze(model, 'get_abstract_caps_final1')"
   ]
  },
  {
   "cell_type": "markdown",
   "metadata": {},
   "source": [
    "### Metric definitions"
   ]
  },
  {
   "cell_type": "code",
   "execution_count": 26,
   "metadata": {},
   "outputs": [],
   "source": [
    "def sens(c, l):\n",
    "    n_targs=l.size()[0]\n",
    "    c = c.argmin(dim=1).view(n_targs,-1).float()\n",
    "    l=l.view(n_targs, -1).float()\n",
    "    inter = torch.sum(c*l, dim=(1))\n",
    "    union = torch.sum(c, dim=(1)) + torch.sum(l) - inter\n",
    "    return (inter/union).mean()"
   ]
  },
  {
   "cell_type": "code",
   "execution_count": 27,
   "metadata": {},
   "outputs": [],
   "source": [
    "def spec(c, l):\n",
    "    n_targs=l.size()[0]\n",
    "    c = c.argmin(dim=1).view(n_targs,-1).float()\n",
    "    l = l.view(n_targs,-1).float()\n",
    "    c=1-c\n",
    "    l=1-l\n",
    "    inter = torch.sum(c*l, dim=(1))\n",
    "    union = torch.sum(c, dim=(1)) + torch.sum(l) - inter\n",
    "    return (inter/union).mean()"
   ]
  },
  {
   "cell_type": "code",
   "execution_count": 28,
   "metadata": {},
   "outputs": [],
   "source": [
    "def acc(c, l):\n",
    "    n_targs=l.size()[0]\n",
    "    c = c.argmin(dim=1).view(n_targs,-1).float()\n",
    "    l = l.view(n_targs,-1)\n",
    "    c = torch.sum(torch.eq(c,l).float(),dim=1)\n",
    "    return (c/l.size()[-1]).mean()"
   ]
  },
  {
   "cell_type": "code",
   "execution_count": 29,
   "metadata": {},
   "outputs": [],
   "source": [
    "def mydice(c,l, iou:bool=False, eps:float=1e-8):\n",
    "    \"Dice coefficient metric for binary target. If iou=True, returns iou metric, classic for segmentation problems.\"\n",
    "    n = l.shape[0]\n",
    "    c = c.argmin(dim=1).view(n,-1).float()\n",
    "    l = l.view(n,-1)\n",
    "    intersect = (c * l).sum().float()\n",
    "    union = (c+l).sum().float()\n",
    "    if not iou: return (2. * intersect / union if union > 0 else union.new([1.]).squeeze())\n",
    "    else: return (intersect / (union-intersect+eps) if union > 0 else union.new([1.]).squeeze())"
   ]
  },
  {
   "cell_type": "code",
   "execution_count": 30,
   "metadata": {},
   "outputs": [],
   "source": [
    "    \n",
    "def lossdice(c,l, iou:bool=False, eps:float=1e-8):\n",
    "    \"Dice coefficient metric for binary target. If iou=True, returns iou metric, classic for segmentation problems.\"\n",
    "    n = l.shape[0]\n",
    "    c = c.view(n,-1).float()\n",
    "    l = l.view(n,-1)\n",
    "    intersect = (c * l).sum().float()\n",
    "    union = (c+l).sum().float()\n",
    "    if not iou: return (2. * intersect / union if union > 0 else union.new([1.]).squeeze())\n",
    "    else: return (intersect / (union-intersect+eps) if union > 0 else union.new([1.]).squeeze())"
   ]
  },
  {
   "cell_type": "code",
   "execution_count": 31,
   "metadata": {},
   "outputs": [],
   "source": [
    "def channelify(mask):\n",
    "    #bin mask shape 1,h,w\n",
    "    zeroth = 1-mask\n",
    "    return torch.cat((mask, zeroth), 1)"
   ]
  },
  {
   "cell_type": "code",
   "execution_count": 32,
   "metadata": {},
   "outputs": [],
   "source": [
    "new_loss = lambda x,y: torch.nn.functional.binary_cross_entropy(x,y) + 0.1*lossdice(x,y)"
   ]
  },
  {
   "cell_type": "code",
   "execution_count": 33,
   "metadata": {},
   "outputs": [],
   "source": [
    "import pandas as pd"
   ]
  },
  {
   "cell_type": "code",
   "execution_count": 34,
   "metadata": {},
   "outputs": [],
   "source": [
    "metric_data_t = pd.DataFrame(columns=['sensitivity', 'specificity', 'dice', 'accuracy', 'loss'])\n",
    "metric_data_v = pd.DataFrame(columns=['sensitivity', 'specificity', 'dice', 'accuracy', 'loss'])"
   ]
  },
  {
   "cell_type": "code",
   "execution_count": 35,
   "metadata": {},
   "outputs": [],
   "source": [
    "optimizer = optim.Adam(model.parameters(), lr=0.00001)"
   ]
  },
  {
   "cell_type": "code",
   "execution_count": 36,
   "metadata": {},
   "outputs": [],
   "source": [
    "# train or eval?\n",
    "model.train();"
   ]
  },
  {
   "cell_type": "code",
   "execution_count": 38,
   "metadata": {},
   "outputs": [
    {
     "name": "stdout",
     "output_type": "stream",
     "text": [
      "CPU times: user 5h 58min 52s, sys: 35min 42s, total: 6h 34min 35s\n",
      "Wall time: 1h 5min 49s\n"
     ]
    }
   ],
   "source": [
    "%%time \n",
    "for epoch in range(3):\n",
    "    for i, sample in enumerate(oct_load_t):\n",
    "        xb, yb, name = sample['input'].cuda(), sample['label'].cuda(), sample['case_name'][0][0]\n",
    "        pred = model(xb)[0]\n",
    "\n",
    "        optimizer.zero_grad()\n",
    "\n",
    "        loss = new_loss(pred, channelify(yb))\n",
    "\n",
    "        loss.backward()\n",
    "        optimizer.step()  \n",
    "\n",
    "\n",
    "        #now we want to save metrics for analysis \n",
    "        sn = float(sens(pred, yb).cpu())\n",
    "        spn = float(spec(pred,yb).cpu())\n",
    "        dn = float(mydice(pred, yb).cpu())\n",
    "        accn = float(acc(pred,yb).cpu())\n",
    "        metric_data_t.loc[name] = [sn,spn,dn,accn, float(loss.data.cpu())]"
   ]
  },
  {
   "cell_type": "code",
   "execution_count": 36,
   "metadata": {},
   "outputs": [],
   "source": [
    "model.eval();"
   ]
  },
  {
   "cell_type": "code",
   "execution_count": 42,
   "metadata": {},
   "outputs": [
    {
     "name": "stdout",
     "output_type": "stream",
     "text": [
      "CPU times: user 25min 43s, sys: 2min 19s, total: 28min 3s\n",
      "Wall time: 4min 41s\n"
     ]
    }
   ],
   "source": [
    "%%time \n",
    "\n",
    "#valid loop\n",
    "for i, sample in enumerate(oct_load_v): \n",
    "    xb, yb, name = sample['input'].cuda(), sample['label'].cuda(), sample['case_name'][0][0]\n",
    "    \n",
    "    pred = model(xb)[0]\n",
    "    loss = new_loss(pred, channelify(yb))\n",
    "    \n",
    "    #now we want to save metrics for analysis \n",
    "    sn = float(sens(pred, yb).cpu())\n",
    "    spn = float(spec(pred,yb).cpu())\n",
    "    dn = float(mydice(pred, yb).cpu())\n",
    "    accn = float(acc(pred,yb).cpu())\n",
    "    metric_data_v.loc[name] = [sn,spn,dn,accn, float(loss.data.cpu())]"
   ]
  },
  {
   "cell_type": "code",
   "execution_count": 43,
   "metadata": {},
   "outputs": [
    {
     "data": {
      "text/html": [
       "<div>\n",
       "<style scoped>\n",
       "    .dataframe tbody tr th:only-of-type {\n",
       "        vertical-align: middle;\n",
       "    }\n",
       "\n",
       "    .dataframe tbody tr th {\n",
       "        vertical-align: top;\n",
       "    }\n",
       "\n",
       "    .dataframe thead th {\n",
       "        text-align: right;\n",
       "    }\n",
       "</style>\n",
       "<table border=\"1\" class=\"dataframe\">\n",
       "  <thead>\n",
       "    <tr style=\"text-align: right;\">\n",
       "      <th></th>\n",
       "      <th>sensitivity</th>\n",
       "      <th>specificity</th>\n",
       "      <th>dice</th>\n",
       "      <th>accuracy</th>\n",
       "      <th>loss</th>\n",
       "    </tr>\n",
       "  </thead>\n",
       "  <tbody>\n",
       "    <tr>\n",
       "      <td>0003001.jpg</td>\n",
       "      <td>0.971059</td>\n",
       "      <td>0.994549</td>\n",
       "      <td>0.985317</td>\n",
       "      <td>0.995392</td>\n",
       "      <td>0.119185</td>\n",
       "    </tr>\n",
       "    <tr>\n",
       "      <td>0007004.jpg</td>\n",
       "      <td>0.970122</td>\n",
       "      <td>0.995406</td>\n",
       "      <td>0.984834</td>\n",
       "      <td>0.996002</td>\n",
       "      <td>0.118150</td>\n",
       "    </tr>\n",
       "    <tr>\n",
       "      <td>0005308.jpg</td>\n",
       "      <td>0.956313</td>\n",
       "      <td>0.998714</td>\n",
       "      <td>0.977669</td>\n",
       "      <td>0.998749</td>\n",
       "      <td>0.106267</td>\n",
       "    </tr>\n",
       "    <tr>\n",
       "      <td>0004374.jpg</td>\n",
       "      <td>0.971697</td>\n",
       "      <td>0.995610</td>\n",
       "      <td>0.985645</td>\n",
       "      <td>0.996185</td>\n",
       "      <td>0.116361</td>\n",
       "    </tr>\n",
       "    <tr>\n",
       "      <td>0008091.jpg</td>\n",
       "      <td>0.955529</td>\n",
       "      <td>0.996311</td>\n",
       "      <td>0.977259</td>\n",
       "      <td>0.996582</td>\n",
       "      <td>0.112380</td>\n",
       "    </tr>\n",
       "    <tr>\n",
       "      <td>...</td>\n",
       "      <td>...</td>\n",
       "      <td>...</td>\n",
       "      <td>...</td>\n",
       "      <td>...</td>\n",
       "      <td>...</td>\n",
       "    </tr>\n",
       "    <tr>\n",
       "      <td>0008148.jpg</td>\n",
       "      <td>0.979819</td>\n",
       "      <td>0.998924</td>\n",
       "      <td>0.989807</td>\n",
       "      <td>0.998978</td>\n",
       "      <td>0.107296</td>\n",
       "    </tr>\n",
       "    <tr>\n",
       "      <td>0007792.jpg</td>\n",
       "      <td>0.966262</td>\n",
       "      <td>0.997742</td>\n",
       "      <td>0.982842</td>\n",
       "      <td>0.997879</td>\n",
       "      <td>0.110410</td>\n",
       "    </tr>\n",
       "    <tr>\n",
       "      <td>0010471.jpg</td>\n",
       "      <td>0.929607</td>\n",
       "      <td>0.992780</td>\n",
       "      <td>0.963520</td>\n",
       "      <td>0.993408</td>\n",
       "      <td>0.117310</td>\n",
       "    </tr>\n",
       "    <tr>\n",
       "      <td>0005707.jpg</td>\n",
       "      <td>0.971266</td>\n",
       "      <td>0.997768</td>\n",
       "      <td>0.985423</td>\n",
       "      <td>0.997925</td>\n",
       "      <td>0.110320</td>\n",
       "    </tr>\n",
       "    <tr>\n",
       "      <td>0006500.jpg</td>\n",
       "      <td>0.899582</td>\n",
       "      <td>0.992144</td>\n",
       "      <td>0.947137</td>\n",
       "      <td>0.992661</td>\n",
       "      <td>0.126266</td>\n",
       "    </tr>\n",
       "  </tbody>\n",
       "</table>\n",
       "<p>9608 rows × 5 columns</p>\n",
       "</div>"
      ],
      "text/plain": [
       "             sensitivity  specificity      dice  accuracy      loss\n",
       "0003001.jpg     0.971059     0.994549  0.985317  0.995392  0.119185\n",
       "0007004.jpg     0.970122     0.995406  0.984834  0.996002  0.118150\n",
       "0005308.jpg     0.956313     0.998714  0.977669  0.998749  0.106267\n",
       "0004374.jpg     0.971697     0.995610  0.985645  0.996185  0.116361\n",
       "0008091.jpg     0.955529     0.996311  0.977259  0.996582  0.112380\n",
       "...                  ...          ...       ...       ...       ...\n",
       "0008148.jpg     0.979819     0.998924  0.989807  0.998978  0.107296\n",
       "0007792.jpg     0.966262     0.997742  0.982842  0.997879  0.110410\n",
       "0010471.jpg     0.929607     0.992780  0.963520  0.993408  0.117310\n",
       "0005707.jpg     0.971266     0.997768  0.985423  0.997925  0.110320\n",
       "0006500.jpg     0.899582     0.992144  0.947137  0.992661  0.126266\n",
       "\n",
       "[9608 rows x 5 columns]"
      ]
     },
     "execution_count": 43,
     "metadata": {},
     "output_type": "execute_result"
    }
   ],
   "source": [
    "metric_data_t"
   ]
  },
  {
   "cell_type": "code",
   "execution_count": 44,
   "metadata": {},
   "outputs": [
    {
     "data": {
      "text/html": [
       "<div>\n",
       "<style scoped>\n",
       "    .dataframe tbody tr th:only-of-type {\n",
       "        vertical-align: middle;\n",
       "    }\n",
       "\n",
       "    .dataframe tbody tr th {\n",
       "        vertical-align: top;\n",
       "    }\n",
       "\n",
       "    .dataframe thead th {\n",
       "        text-align: right;\n",
       "    }\n",
       "</style>\n",
       "<table border=\"1\" class=\"dataframe\">\n",
       "  <thead>\n",
       "    <tr style=\"text-align: right;\">\n",
       "      <th></th>\n",
       "      <th>sensitivity</th>\n",
       "      <th>specificity</th>\n",
       "      <th>dice</th>\n",
       "      <th>accuracy</th>\n",
       "      <th>loss</th>\n",
       "    </tr>\n",
       "  </thead>\n",
       "  <tbody>\n",
       "    <tr>\n",
       "      <td>0010696.jpg</td>\n",
       "      <td>0.857677</td>\n",
       "      <td>0.977569</td>\n",
       "      <td>0.923386</td>\n",
       "      <td>0.980240</td>\n",
       "      <td>0.149966</td>\n",
       "    </tr>\n",
       "    <tr>\n",
       "      <td>0001343.jpg</td>\n",
       "      <td>0.969658</td>\n",
       "      <td>0.996373</td>\n",
       "      <td>0.984595</td>\n",
       "      <td>0.996750</td>\n",
       "      <td>0.114256</td>\n",
       "    </tr>\n",
       "    <tr>\n",
       "      <td>0007889.jpg</td>\n",
       "      <td>0.977448</td>\n",
       "      <td>0.998626</td>\n",
       "      <td>0.988595</td>\n",
       "      <td>0.998703</td>\n",
       "      <td>0.108586</td>\n",
       "    </tr>\n",
       "    <tr>\n",
       "      <td>0007897.jpg</td>\n",
       "      <td>0.956916</td>\n",
       "      <td>0.997230</td>\n",
       "      <td>0.977984</td>\n",
       "      <td>0.997391</td>\n",
       "      <td>0.110176</td>\n",
       "    </tr>\n",
       "    <tr>\n",
       "      <td>0002507.jpg</td>\n",
       "      <td>0.957182</td>\n",
       "      <td>0.993837</td>\n",
       "      <td>0.978123</td>\n",
       "      <td>0.994583</td>\n",
       "      <td>0.120502</td>\n",
       "    </tr>\n",
       "    <tr>\n",
       "      <td>...</td>\n",
       "      <td>...</td>\n",
       "      <td>...</td>\n",
       "      <td>...</td>\n",
       "      <td>...</td>\n",
       "      <td>...</td>\n",
       "    </tr>\n",
       "    <tr>\n",
       "      <td>0001256.jpg</td>\n",
       "      <td>0.970164</td>\n",
       "      <td>0.990880</td>\n",
       "      <td>0.984856</td>\n",
       "      <td>0.992966</td>\n",
       "      <td>0.128914</td>\n",
       "    </tr>\n",
       "    <tr>\n",
       "      <td>0006029.jpg</td>\n",
       "      <td>0.973308</td>\n",
       "      <td>0.997915</td>\n",
       "      <td>0.986474</td>\n",
       "      <td>0.998062</td>\n",
       "      <td>0.110819</td>\n",
       "    </tr>\n",
       "    <tr>\n",
       "      <td>0011017.jpg</td>\n",
       "      <td>0.967186</td>\n",
       "      <td>0.998734</td>\n",
       "      <td>0.983319</td>\n",
       "      <td>0.998779</td>\n",
       "      <td>0.107096</td>\n",
       "    </tr>\n",
       "    <tr>\n",
       "      <td>0006996.jpg</td>\n",
       "      <td>0.884178</td>\n",
       "      <td>0.981765</td>\n",
       "      <td>0.938529</td>\n",
       "      <td>0.983994</td>\n",
       "      <td>0.143334</td>\n",
       "    </tr>\n",
       "    <tr>\n",
       "      <td>0005984.jpg</td>\n",
       "      <td>0.984185</td>\n",
       "      <td>0.997816</td>\n",
       "      <td>0.992029</td>\n",
       "      <td>0.998077</td>\n",
       "      <td>0.114212</td>\n",
       "    </tr>\n",
       "  </tbody>\n",
       "</table>\n",
       "<p>2403 rows × 5 columns</p>\n",
       "</div>"
      ],
      "text/plain": [
       "             sensitivity  specificity      dice  accuracy      loss\n",
       "0010696.jpg     0.857677     0.977569  0.923386  0.980240  0.149966\n",
       "0001343.jpg     0.969658     0.996373  0.984595  0.996750  0.114256\n",
       "0007889.jpg     0.977448     0.998626  0.988595  0.998703  0.108586\n",
       "0007897.jpg     0.956916     0.997230  0.977984  0.997391  0.110176\n",
       "0002507.jpg     0.957182     0.993837  0.978123  0.994583  0.120502\n",
       "...                  ...          ...       ...       ...       ...\n",
       "0001256.jpg     0.970164     0.990880  0.984856  0.992966  0.128914\n",
       "0006029.jpg     0.973308     0.997915  0.986474  0.998062  0.110819\n",
       "0011017.jpg     0.967186     0.998734  0.983319  0.998779  0.107096\n",
       "0006996.jpg     0.884178     0.981765  0.938529  0.983994  0.143334\n",
       "0005984.jpg     0.984185     0.997816  0.992029  0.998077  0.114212\n",
       "\n",
       "[2403 rows x 5 columns]"
      ]
     },
     "execution_count": 44,
     "metadata": {},
     "output_type": "execute_result"
    }
   ],
   "source": [
    "metric_data_v"
   ]
  },
  {
   "cell_type": "markdown",
   "metadata": {},
   "source": [
    "torch.save(model.state_dict(), Path('/workspace/oct_ca_seg/runsaves/capstunedarj1.pt'))"
   ]
  },
  {
   "cell_type": "code",
   "execution_count": 37,
   "metadata": {},
   "outputs": [],
   "source": [
    "from skimage import filters"
   ]
  },
  {
   "cell_type": "code",
   "execution_count": 38,
   "metadata": {},
   "outputs": [],
   "source": [
    "class Analysis():\n",
    "    def __init__(self, data, model):\n",
    "        self.d = data\n",
    "        self.m = model\n",
    "        \n",
    "    \n",
    "    def show_a_pred(self, name):\n",
    "        \n",
    "        i = self.d.nl.index(name)\n",
    "        \n",
    "        fig, (axim, axl, axb, axlu, axpr, axunc) = plt.subplots(nrows=1, ncols=6, figsize=(10, 10),\n",
    "                    subplot_kw={'xticks': [], 'yticks': []})\n",
    "        \n",
    "        input, target, name = self.d[i]['input'], self.d[i]['label'], self.d[i]['case_name'][0]\n",
    "        input = input.unsqueeze(0)\n",
    "        target = target.unsqueeze(0)\n",
    "        pred = self.m(input.cuda())[0]\n",
    "        \n",
    "        im = axim.imshow(input.cuda()[0][0])\n",
    "        \n",
    "        l = axl.imshow(target.cuda()[0][0])\n",
    "        \n",
    "        background = axb.imshow(pred[0][1])\n",
    "        lumen = axlu.imshow(pred[0][0])\n",
    "        preds = axpr.imshow(pred.argmin(dim=1)[0])\n",
    "        \n",
    "        unc = axunc.imshow(pred[0][0] * (1 - pred.argmin(dim=1)[0].float()))\n",
    "        \n",
    "        print(name,  float(mydice(pred.cpu(), target)))\n",
    "    \n",
    "    def worst_to_best(self, whichones, sorted_dices, save=False):\n",
    "        \n",
    "        \n",
    "        inds = list(map(self.d.nl.index, whichones))\n",
    "        \n",
    "        fig, axs = plt.subplots(nrows=3, ncols=5, figsize=(6.5, 4.77),\n",
    "                        subplot_kw={'xticks': [], 'yticks': []})\n",
    "        \n",
    "        i=0\n",
    "        for ax, ting in zip(axs.flat, inds):\n",
    "            input, target, name = self.d[inds[i]]['input'], self.d[inds[i]]['label'], self.d[inds[i]]['case_name'][0]\n",
    "            input, target = input.unsqueeze(0), target.squeeze()\n",
    "            pred = self.m(input.cuda())[0].argmin(dim=1).squeeze()\n",
    "            input = input.squeeze()\n",
    "            \n",
    "            pred = np.ma.masked_where(pred==0,pred)\n",
    "            target = filters.sobel(target) *100\n",
    "            label_pic = np.ma.masked_where(target==0, target)\n",
    "            \n",
    "            im = ax.imshow(input[0],'gray', interpolation='none')\n",
    "            la = ax.imshow(1-pred, 'RdYlGn', interpolation='none', alpha=0.7)\n",
    "            acla = ax.imshow(label_pic, 'inferno', interpolation='none')\n",
    "            ax.set_title(str(i+1) + '.    Dice: ' + str(np.round(100*sorted_dices['dice'][whichones[i].name],2)),size=9)\n",
    "            i+=1\n",
    "        \n",
    "        plt.tight_layout()\n",
    "        if save:\n",
    "            plt.savefig('/workspace/oct_ca_seg/seg_model/nbs/a10worstbestmiddle.jpg', bbox_inches='tight', dpi=1000)\n",
    "    \n",
    "    def show_interestingx4(self, four, sorted_dices, save=False):\n",
    "        \n",
    "        \n",
    "        inds = list(map(self.d.nl.index, four))\n",
    "        \n",
    "        fig, axs = plt.subplots(nrows=1, ncols=4, figsize=(6.5, 4.77),\n",
    "                        subplot_kw={'xticks': [], 'yticks': []})\n",
    "        \n",
    "        i=0\n",
    "        for ax, ting in zip(axs.flat, inds):\n",
    "            input, target, name = self.d[inds[i]]['input'], self.d[inds[i]]['label'], self.d[inds[i]]['case_name'][0]\n",
    "            input, target = input.unsqueeze(0), target.squeeze()\n",
    "            pred = self.m(input.cuda())[0].argmin(dim=1).squeeze()\n",
    "            input = input.squeeze()\n",
    "            \n",
    "            pred = np.ma.masked_where(pred==0,pred)\n",
    "            target = filters.sobel(target) *100\n",
    "            label_pic = np.ma.masked_where(target==0, target)\n",
    "            \n",
    "            im = ax.imshow(input[0],'gray', interpolation='none')\n",
    "            la = ax.imshow(1-pred, 'RdYlGn', interpolation='none', alpha=0.4)\n",
    "            acla = ax.imshow(label_pic, 'inferno', interpolation='none')\n",
    "            ax.set_title(str(i+1) + '.    Dice: ' + str(np.round(100*sorted_dices['dice'][four[i].name],2)),size=9)\n",
    "            i+=1\n",
    "        \n",
    "        plt.tight_layout()\n",
    "        if save:\n",
    "            plt.savefig('/workspace/oct_ca_seg/seg_model/nbs/interesting.jpg', bbox_inches='tight', dpi=1000)\n",
    "            "
   ]
  },
  {
   "cell_type": "code",
   "execution_count": 39,
   "metadata": {},
   "outputs": [],
   "source": [
    "analysis = Analysis(oct_data_v, model)"
   ]
  },
  {
   "cell_type": "code",
   "execution_count": 40,
   "metadata": {},
   "outputs": [
    {
     "data": {
      "text/plain": [
       "PosixPath('/workspace/oct_ca_seg/data_oct/images')"
      ]
     },
     "execution_count": 40,
     "metadata": {},
     "output_type": "execute_result"
    }
   ],
   "source": [
    "analysis.d.main_data_dir"
   ]
  },
  {
   "cell_type": "code",
   "execution_count": 41,
   "metadata": {},
   "outputs": [
    {
     "data": {
      "text/plain": [
       "20"
      ]
     },
     "execution_count": 41,
     "metadata": {},
     "output_type": "execute_result"
    }
   ],
   "source": [
    "analysis.d.nl.index(analysis.d.nl[20])"
   ]
  },
  {
   "cell_type": "markdown",
   "metadata": {},
   "source": [
    "metric_data_t.to_csv(Path('/workspace/oct_ca_seg/seg_model/nbs/useful/capstunedarj1_metrics_t'))\n",
    "metric_data_v.to_csv(Path('/workspace/oct_ca_seg/seg_model/nbs/useful/capstunedarj1_metrics_v'))"
   ]
  },
  {
   "cell_type": "code",
   "execution_count": 42,
   "metadata": {},
   "outputs": [],
   "source": [
    "metric_data_t = pd.read_csv(Path('/workspace/oct_ca_seg/seg_model/nbs/useful/capstunedarj1_metrics_t'))\n",
    "metric_data_v = pd.read_csv(Path('/workspace/oct_ca_seg/seg_model/nbs/useful/capstunedarj1_metrics_v'))"
   ]
  },
  {
   "cell_type": "code",
   "execution_count": 43,
   "metadata": {},
   "outputs": [
    {
     "data": {
      "text/html": [
       "<div>\n",
       "<style scoped>\n",
       "    .dataframe tbody tr th:only-of-type {\n",
       "        vertical-align: middle;\n",
       "    }\n",
       "\n",
       "    .dataframe tbody tr th {\n",
       "        vertical-align: top;\n",
       "    }\n",
       "\n",
       "    .dataframe thead th {\n",
       "        text-align: right;\n",
       "    }\n",
       "</style>\n",
       "<table border=\"1\" class=\"dataframe\">\n",
       "  <thead>\n",
       "    <tr style=\"text-align: right;\">\n",
       "      <th></th>\n",
       "      <th>Unnamed: 0</th>\n",
       "      <th>sensitivity</th>\n",
       "      <th>specificity</th>\n",
       "      <th>dice</th>\n",
       "      <th>accuracy</th>\n",
       "      <th>loss</th>\n",
       "    </tr>\n",
       "  </thead>\n",
       "  <tbody>\n",
       "    <tr>\n",
       "      <td>0</td>\n",
       "      <td>0010696.jpg</td>\n",
       "      <td>0.857677</td>\n",
       "      <td>0.977569</td>\n",
       "      <td>0.923386</td>\n",
       "      <td>0.980240</td>\n",
       "      <td>0.149966</td>\n",
       "    </tr>\n",
       "    <tr>\n",
       "      <td>1</td>\n",
       "      <td>0001343.jpg</td>\n",
       "      <td>0.969658</td>\n",
       "      <td>0.996373</td>\n",
       "      <td>0.984595</td>\n",
       "      <td>0.996750</td>\n",
       "      <td>0.114256</td>\n",
       "    </tr>\n",
       "    <tr>\n",
       "      <td>2</td>\n",
       "      <td>0007889.jpg</td>\n",
       "      <td>0.977448</td>\n",
       "      <td>0.998626</td>\n",
       "      <td>0.988595</td>\n",
       "      <td>0.998703</td>\n",
       "      <td>0.108586</td>\n",
       "    </tr>\n",
       "    <tr>\n",
       "      <td>3</td>\n",
       "      <td>0007897.jpg</td>\n",
       "      <td>0.956916</td>\n",
       "      <td>0.997230</td>\n",
       "      <td>0.977984</td>\n",
       "      <td>0.997391</td>\n",
       "      <td>0.110176</td>\n",
       "    </tr>\n",
       "    <tr>\n",
       "      <td>4</td>\n",
       "      <td>0002507.jpg</td>\n",
       "      <td>0.957182</td>\n",
       "      <td>0.993837</td>\n",
       "      <td>0.978123</td>\n",
       "      <td>0.994583</td>\n",
       "      <td>0.120502</td>\n",
       "    </tr>\n",
       "    <tr>\n",
       "      <td>...</td>\n",
       "      <td>...</td>\n",
       "      <td>...</td>\n",
       "      <td>...</td>\n",
       "      <td>...</td>\n",
       "      <td>...</td>\n",
       "      <td>...</td>\n",
       "    </tr>\n",
       "    <tr>\n",
       "      <td>2398</td>\n",
       "      <td>0001256.jpg</td>\n",
       "      <td>0.970164</td>\n",
       "      <td>0.990880</td>\n",
       "      <td>0.984856</td>\n",
       "      <td>0.992966</td>\n",
       "      <td>0.128914</td>\n",
       "    </tr>\n",
       "    <tr>\n",
       "      <td>2399</td>\n",
       "      <td>0006029.jpg</td>\n",
       "      <td>0.973308</td>\n",
       "      <td>0.997915</td>\n",
       "      <td>0.986474</td>\n",
       "      <td>0.998062</td>\n",
       "      <td>0.110819</td>\n",
       "    </tr>\n",
       "    <tr>\n",
       "      <td>2400</td>\n",
       "      <td>0011017.jpg</td>\n",
       "      <td>0.967186</td>\n",
       "      <td>0.998734</td>\n",
       "      <td>0.983319</td>\n",
       "      <td>0.998779</td>\n",
       "      <td>0.107096</td>\n",
       "    </tr>\n",
       "    <tr>\n",
       "      <td>2401</td>\n",
       "      <td>0006996.jpg</td>\n",
       "      <td>0.884178</td>\n",
       "      <td>0.981765</td>\n",
       "      <td>0.938529</td>\n",
       "      <td>0.983994</td>\n",
       "      <td>0.143334</td>\n",
       "    </tr>\n",
       "    <tr>\n",
       "      <td>2402</td>\n",
       "      <td>0005984.jpg</td>\n",
       "      <td>0.984185</td>\n",
       "      <td>0.997816</td>\n",
       "      <td>0.992029</td>\n",
       "      <td>0.998077</td>\n",
       "      <td>0.114212</td>\n",
       "    </tr>\n",
       "  </tbody>\n",
       "</table>\n",
       "<p>2403 rows × 6 columns</p>\n",
       "</div>"
      ],
      "text/plain": [
       "       Unnamed: 0  sensitivity  specificity      dice  accuracy      loss\n",
       "0     0010696.jpg     0.857677     0.977569  0.923386  0.980240  0.149966\n",
       "1     0001343.jpg     0.969658     0.996373  0.984595  0.996750  0.114256\n",
       "2     0007889.jpg     0.977448     0.998626  0.988595  0.998703  0.108586\n",
       "3     0007897.jpg     0.956916     0.997230  0.977984  0.997391  0.110176\n",
       "4     0002507.jpg     0.957182     0.993837  0.978123  0.994583  0.120502\n",
       "...           ...          ...          ...       ...       ...       ...\n",
       "2398  0001256.jpg     0.970164     0.990880  0.984856  0.992966  0.128914\n",
       "2399  0006029.jpg     0.973308     0.997915  0.986474  0.998062  0.110819\n",
       "2400  0011017.jpg     0.967186     0.998734  0.983319  0.998779  0.107096\n",
       "2401  0006996.jpg     0.884178     0.981765  0.938529  0.983994  0.143334\n",
       "2402  0005984.jpg     0.984185     0.997816  0.992029  0.998077  0.114212\n",
       "\n",
       "[2403 rows x 6 columns]"
      ]
     },
     "execution_count": 43,
     "metadata": {},
     "output_type": "execute_result"
    }
   ],
   "source": [
    "metric_data_v"
   ]
  },
  {
   "cell_type": "code",
   "execution_count": 44,
   "metadata": {},
   "outputs": [],
   "source": [
    "dice = metric_data_v[['Unnamed: 0', 'dice']]"
   ]
  },
  {
   "cell_type": "code",
   "execution_count": 45,
   "metadata": {},
   "outputs": [],
   "source": [
    "dice = dice.set_index('Unnamed: 0');"
   ]
  },
  {
   "cell_type": "code",
   "execution_count": 46,
   "metadata": {},
   "outputs": [],
   "source": [
    "def sorter_boy(metric):\n",
    "    metric = metric.sort_values('dice', ascending=True)\n",
    "    for i in metric:\n",
    "        i = Path(analysis.d.main_data_dir/str(i))\n",
    "    return metric"
   ]
  },
  {
   "cell_type": "code",
   "execution_count": 47,
   "metadata": {},
   "outputs": [],
   "source": [
    "sorted_dices=sorter_boy(dice)"
   ]
  },
  {
   "cell_type": "code",
   "execution_count": 48,
   "metadata": {},
   "outputs": [
    {
     "data": {
      "text/plain": [
       "0.7999333943884772"
      ]
     },
     "execution_count": 48,
     "metadata": {},
     "output_type": "execute_result"
    }
   ],
   "source": [
    "9608/12011"
   ]
  },
  {
   "cell_type": "markdown",
   "metadata": {},
   "source": [
    "### Here is the mean dice score of our model on the 2403 validaton images. "
   ]
  },
  {
   "cell_type": "code",
   "execution_count": 49,
   "metadata": {},
   "outputs": [
    {
     "data": {
      "text/plain": [
       "dice    0.971068\n",
       "dtype: float64"
      ]
     },
     "execution_count": 49,
     "metadata": {},
     "output_type": "execute_result"
    }
   ],
   "source": [
    "sorted_dices.mean()"
   ]
  },
  {
   "cell_type": "code",
   "execution_count": 50,
   "metadata": {},
   "outputs": [
    {
     "data": {
      "text/plain": [
       "(0.9463379245051433,\n",
       " 0.9947569550348727,\n",
       " 0.9952646065790158,\n",
       " 0.9710675365866297)"
      ]
     },
     "execution_count": 50,
     "metadata": {},
     "output_type": "execute_result"
    }
   ],
   "source": [
    "metric_data_v['sensitivity'].mean(), metric_data_v['specificity'].mean(),  metric_data_v['accuracy'].mean(),  metric_data_v['dice'].mean() "
   ]
  },
  {
   "cell_type": "code",
   "execution_count": 51,
   "metadata": {},
   "outputs": [
    {
     "data": {
      "text/plain": [
       "(0.06347402050062224,\n",
       " 0.0076772255121104254,\n",
       " 0.006904932723988056,\n",
       " 0.04215547033339235)"
      ]
     },
     "execution_count": 51,
     "metadata": {},
     "output_type": "execute_result"
    }
   ],
   "source": [
    "metric_data_v['sensitivity'].std(), metric_data_v['specificity'].std(),  metric_data_v['accuracy'].std(),  metric_data_v['dice'].std() "
   ]
  },
  {
   "cell_type": "code",
   "execution_count": 52,
   "metadata": {},
   "outputs": [],
   "source": [
    "ascend_dice_names = sorted_dices.index.values.tolist();"
   ]
  },
  {
   "cell_type": "code",
   "execution_count": 53,
   "metadata": {},
   "outputs": [],
   "source": [
    "sorted_dices;"
   ]
  },
  {
   "cell_type": "markdown",
   "metadata": {},
   "source": [
    "get the names and respective paths"
   ]
  },
  {
   "cell_type": "code",
   "execution_count": 54,
   "metadata": {},
   "outputs": [],
   "source": [
    "name_paths = pd.DataFrame(columns =['path'])\n",
    "for i, name in enumerate(ascend_dice_names):\n",
    "    inddd = name\n",
    "    name = Path(analysis.d.main_data_dir/name)\n",
    "    name_paths.loc[inddd] = name"
   ]
  },
  {
   "cell_type": "code",
   "execution_count": 55,
   "metadata": {},
   "outputs": [],
   "source": [
    "sorted_dices = sorted_dices.join(name_paths)"
   ]
  },
  {
   "cell_type": "code",
   "execution_count": 56,
   "metadata": {},
   "outputs": [
    {
     "data": {
      "text/html": [
       "<div>\n",
       "<style scoped>\n",
       "    .dataframe tbody tr th:only-of-type {\n",
       "        vertical-align: middle;\n",
       "    }\n",
       "\n",
       "    .dataframe tbody tr th {\n",
       "        vertical-align: top;\n",
       "    }\n",
       "\n",
       "    .dataframe thead th {\n",
       "        text-align: right;\n",
       "    }\n",
       "</style>\n",
       "<table border=\"1\" class=\"dataframe\">\n",
       "  <thead>\n",
       "    <tr style=\"text-align: right;\">\n",
       "      <th></th>\n",
       "      <th>dice</th>\n",
       "      <th>path</th>\n",
       "    </tr>\n",
       "    <tr>\n",
       "      <th>Unnamed: 0</th>\n",
       "      <th></th>\n",
       "      <th></th>\n",
       "    </tr>\n",
       "  </thead>\n",
       "  <tbody>\n",
       "    <tr>\n",
       "      <td>0002842.jpg</td>\n",
       "      <td>0.412409</td>\n",
       "      <td>/workspace/oct_ca_seg/data_oct/images/0002842.jpg</td>\n",
       "    </tr>\n",
       "    <tr>\n",
       "      <td>0009684.jpg</td>\n",
       "      <td>0.459392</td>\n",
       "      <td>/workspace/oct_ca_seg/data_oct/images/0009684.jpg</td>\n",
       "    </tr>\n",
       "    <tr>\n",
       "      <td>0005382.jpg</td>\n",
       "      <td>0.497046</td>\n",
       "      <td>/workspace/oct_ca_seg/data_oct/images/0005382.jpg</td>\n",
       "    </tr>\n",
       "    <tr>\n",
       "      <td>0005220.jpg</td>\n",
       "      <td>0.520788</td>\n",
       "      <td>/workspace/oct_ca_seg/data_oct/images/0005220.jpg</td>\n",
       "    </tr>\n",
       "    <tr>\n",
       "      <td>0011300.jpg</td>\n",
       "      <td>0.542661</td>\n",
       "      <td>/workspace/oct_ca_seg/data_oct/images/0011300.jpg</td>\n",
       "    </tr>\n",
       "    <tr>\n",
       "      <td>...</td>\n",
       "      <td>...</td>\n",
       "      <td>...</td>\n",
       "    </tr>\n",
       "    <tr>\n",
       "      <td>0004347.jpg</td>\n",
       "      <td>0.994272</td>\n",
       "      <td>/workspace/oct_ca_seg/data_oct/images/0004347.jpg</td>\n",
       "    </tr>\n",
       "    <tr>\n",
       "      <td>0007855.jpg</td>\n",
       "      <td>0.994470</td>\n",
       "      <td>/workspace/oct_ca_seg/data_oct/images/0007855.jpg</td>\n",
       "    </tr>\n",
       "    <tr>\n",
       "      <td>0010706.jpg</td>\n",
       "      <td>0.994724</td>\n",
       "      <td>/workspace/oct_ca_seg/data_oct/images/0010706.jpg</td>\n",
       "    </tr>\n",
       "    <tr>\n",
       "      <td>0004145.jpg</td>\n",
       "      <td>0.994871</td>\n",
       "      <td>/workspace/oct_ca_seg/data_oct/images/0004145.jpg</td>\n",
       "    </tr>\n",
       "    <tr>\n",
       "      <td>0010700.jpg</td>\n",
       "      <td>0.995488</td>\n",
       "      <td>/workspace/oct_ca_seg/data_oct/images/0010700.jpg</td>\n",
       "    </tr>\n",
       "  </tbody>\n",
       "</table>\n",
       "<p>2403 rows × 2 columns</p>\n",
       "</div>"
      ],
      "text/plain": [
       "                 dice                                               path\n",
       "Unnamed: 0                                                              \n",
       "0002842.jpg  0.412409  /workspace/oct_ca_seg/data_oct/images/0002842.jpg\n",
       "0009684.jpg  0.459392  /workspace/oct_ca_seg/data_oct/images/0009684.jpg\n",
       "0005382.jpg  0.497046  /workspace/oct_ca_seg/data_oct/images/0005382.jpg\n",
       "0005220.jpg  0.520788  /workspace/oct_ca_seg/data_oct/images/0005220.jpg\n",
       "0011300.jpg  0.542661  /workspace/oct_ca_seg/data_oct/images/0011300.jpg\n",
       "...               ...                                                ...\n",
       "0004347.jpg  0.994272  /workspace/oct_ca_seg/data_oct/images/0004347.jpg\n",
       "0007855.jpg  0.994470  /workspace/oct_ca_seg/data_oct/images/0007855.jpg\n",
       "0010706.jpg  0.994724  /workspace/oct_ca_seg/data_oct/images/0010706.jpg\n",
       "0004145.jpg  0.994871  /workspace/oct_ca_seg/data_oct/images/0004145.jpg\n",
       "0010700.jpg  0.995488  /workspace/oct_ca_seg/data_oct/images/0010700.jpg\n",
       "\n",
       "[2403 rows x 2 columns]"
      ]
     },
     "execution_count": 56,
     "metadata": {},
     "output_type": "execute_result"
    }
   ],
   "source": [
    "sorted_dices"
   ]
  },
  {
   "cell_type": "code",
   "execution_count": 57,
   "metadata": {},
   "outputs": [
    {
     "data": {
      "text/plain": [
       "'some good boys\\n0003448.jpg\\n0009181.jpg\\n0011011.jpg\\n0002096.jpg\\n0002089.jpg\\n0010132.jpg\\n0001134.jpg\\n0002081.jpg'"
      ]
     },
     "execution_count": 57,
     "metadata": {},
     "output_type": "execute_result"
    }
   ],
   "source": [
    "'''some good boys\n",
    "0003448.jpg\n",
    "0009181.jpg\n",
    "0011011.jpg\n",
    "0002096.jpg\n",
    "0002089.jpg\n",
    "0010132.jpg\n",
    "0001134.jpg\n",
    "0002081.jpg'''"
   ]
  },
  {
   "cell_type": "code",
   "execution_count": 58,
   "metadata": {},
   "outputs": [
    {
     "name": "stdout",
     "output_type": "stream",
     "text": [
      "0002081.jpg 0.9629278779029846\n"
     ]
    },
    {
     "data": {
      "image/png": "[encoded data removed]",
      "text/plain": [
       "<Figure size 720x720 with 6 Axes>"
      ]
     },
     "metadata": {},
     "output_type": "display_data"
    }
   ],
   "source": [
    "analysis.show_a_pred(sorted_dices['path'][380])"
   ]
  },
  {
   "cell_type": "code",
   "execution_count": 59,
   "metadata": {},
   "outputs": [
    {
     "data": {
      "image/png": "[encoded data removed]",
      "text/plain": [
       "<Figure size 432x288 with 4 Axes>"
      ]
     },
     "metadata": {
      "needs_background": "light"
     },
     "output_type": "display_data"
    }
   ],
   "source": [
    "oct_data_v.visualise(257)"
   ]
  },
  {
   "cell_type": "code",
   "execution_count": 60,
   "metadata": {},
   "outputs": [
    {
     "data": {
      "text/plain": [
       "0.9521431543903454"
      ]
     },
     "execution_count": 60,
     "metadata": {},
     "output_type": "execute_result"
    }
   ],
   "source": [
    "(dice['dice']>0.92).sum()/2403"
   ]
  },
  {
   "cell_type": "code",
   "execution_count": 61,
   "metadata": {},
   "outputs": [
    {
     "data": {
      "text/plain": [
       "(array([2.000e+00, 2.000e+00, 6.000e+00, 1.000e+00, 4.000e+00, 7.000e+00, 8.000e+00, 2.700e+01, 9.700e+01, 2.249e+03]),\n",
       " array([0.412409, 0.470717, 0.529025, 0.587333, 0.645641, 0.703948, 0.762256, 0.820564, 0.878872, 0.93718 , 0.995488]),\n",
       " <a list of 10 Patch objects>)"
      ]
     },
     "execution_count": 61,
     "metadata": {},
     "output_type": "execute_result"
    },
    {
     "data": {
      "image/png": "[encoded data removed]",
      "text/plain": [
       "<Figure size 432x288 with 1 Axes>"
      ]
     },
     "metadata": {
      "needs_background": "light"
     },
     "output_type": "display_data"
    }
   ],
   "source": [
    "plt.hist(dice['dice'])"
   ]
  },
  {
   "cell_type": "markdown",
   "metadata": {},
   "source": [
    "this cell below plots the over estimate residual prediction, tune the > value to modulate how much is captured in the residual"
   ]
  },
  {
   "cell_type": "code",
   "execution_count": 87,
   "metadata": {},
   "outputs": [
    {
     "name": "stdout",
     "output_type": "stream",
     "text": [
      "0009684.jpg\n"
     ]
    },
    {
     "data": {
      "text/plain": [
       "<matplotlib.image.AxesImage at 0x7f96dc0f5c18>"
      ]
     },
     "execution_count": 87,
     "metadata": {},
     "output_type": "execute_result"
    },
    {
     "data": {
      "image/png": "[encoded data removed]",
      "text/plain": [
       "<Figure size 432x288 with 1 Axes>"
      ]
     },
     "metadata": {
      "needs_background": "light"
     },
     "output_type": "display_data"
    }
   ],
   "source": [
    "sample = oct_data_v[1309]\n",
    "print(sample['case_name'][0])\n",
    "dummy_in = (sample['input'].unsqueeze(0)).cuda()\n",
    "dummy_out = model(dummy_in)[0]\n",
    "plt.imshow((1-((dummy_out[0][1]-dummy_out[0][0])**2)**0.5))"
   ]
  },
  {
   "cell_type": "code",
   "execution_count": 64,
   "metadata": {},
   "outputs": [
    {
     "name": "stdout",
     "output_type": "stream",
     "text": [
      "CPU times: user 25min 28s, sys: 2min 19s, total: 27min 48s\n",
      "Wall time: 4min 38s\n"
     ]
    }
   ],
   "source": [
    "%%time\n",
    "uncdata = pd.DataFrame(columns=['mean', 'std', 'sum', 'l_area','pred_area', 'met1', 'met2'])\n",
    "for i, sample in enumerate(oct_load_v): \n",
    "    xb, yb, name = sample['input'].cuda(), sample['label'].cuda(), sample['case_name'][0][0]\n",
    "    \n",
    "    pred = model(xb)[0]\n",
    "    '''\n",
    "    argp = pred[0][0] * (1 - pred.argmin(dim=1)[0].float())\n",
    "    argi = argp.sum().cpu()\n",
    "    \n",
    "    argabsolute = (argp>0.05).sum().cpu()'''\n",
    "    \n",
    "    met1 = float(((1-pred.argmin(dim=1)[0]).float()*(1-(((pred[0][1]-pred[0][0])**2)**0.5))).sum())\n",
    "    met2 = float(((1-((pred[0][1]-pred[0][0])**2))>0.5).sum())\n",
    "    area = float(pred.argmin(dim=1)[0].sum())\n",
    "    \n",
    "    #larea = area - met\n",
    "    #uarea = area + met\n",
    "    \n",
    "    \n",
    "    #argp = (pred[0][0]+pred[0][1])**2\n",
    "    uncdata.loc[name] = [float(pred[0][0].mean().cpu()),\n",
    "                         float(pred[0][0].std().cpu()),\n",
    "                         float(pred[0][0].sum().cpu()),\n",
    "                         float(yb.sum()),\n",
    "                        float(area),\n",
    "                        float(met1),\n",
    "                        float(met2)]"
   ]
  },
  {
   "cell_type": "code",
   "execution_count": 65,
   "metadata": {},
   "outputs": [
    {
     "data": {
      "text/html": [
       "<div>\n",
       "<style scoped>\n",
       "    .dataframe tbody tr th:only-of-type {\n",
       "        vertical-align: middle;\n",
       "    }\n",
       "\n",
       "    .dataframe tbody tr th {\n",
       "        vertical-align: top;\n",
       "    }\n",
       "\n",
       "    .dataframe thead th {\n",
       "        text-align: right;\n",
       "    }\n",
       "</style>\n",
       "<table border=\"1\" class=\"dataframe\">\n",
       "  <thead>\n",
       "    <tr style=\"text-align: right;\">\n",
       "      <th></th>\n",
       "      <th>mean</th>\n",
       "      <th>std</th>\n",
       "      <th>sum</th>\n",
       "      <th>l_area</th>\n",
       "      <th>pred_area</th>\n",
       "      <th>met1</th>\n",
       "      <th>met2</th>\n",
       "    </tr>\n",
       "  </thead>\n",
       "  <tbody>\n",
       "    <tr>\n",
       "      <td>0010696.jpg</td>\n",
       "      <td>0.122020</td>\n",
       "      <td>0.305096</td>\n",
       "      <td>7996.697754</td>\n",
       "      <td>9028.0</td>\n",
       "      <td>7875.0</td>\n",
       "      <td>1126.610107</td>\n",
       "      <td>2414.0</td>\n",
       "    </tr>\n",
       "    <tr>\n",
       "      <td>0001343.jpg</td>\n",
       "      <td>0.103825</td>\n",
       "      <td>0.291343</td>\n",
       "      <td>6804.256836</td>\n",
       "      <td>6824.0</td>\n",
       "      <td>7003.0</td>\n",
       "      <td>530.424438</td>\n",
       "      <td>992.0</td>\n",
       "    </tr>\n",
       "    <tr>\n",
       "      <td>0007889.jpg</td>\n",
       "      <td>0.056139</td>\n",
       "      <td>0.217791</td>\n",
       "      <td>3679.155029</td>\n",
       "      <td>3706.0</td>\n",
       "      <td>3747.0</td>\n",
       "      <td>441.082550</td>\n",
       "      <td>685.0</td>\n",
       "    </tr>\n",
       "    <tr>\n",
       "      <td>0007897.jpg</td>\n",
       "      <td>0.059208</td>\n",
       "      <td>0.224016</td>\n",
       "      <td>3880.288086</td>\n",
       "      <td>3809.0</td>\n",
       "      <td>3958.0</td>\n",
       "      <td>431.650909</td>\n",
       "      <td>681.0</td>\n",
       "    </tr>\n",
       "    <tr>\n",
       "      <td>0002507.jpg</td>\n",
       "      <td>0.120273</td>\n",
       "      <td>0.310487</td>\n",
       "      <td>7882.195312</td>\n",
       "      <td>8240.0</td>\n",
       "      <td>7987.0</td>\n",
       "      <td>619.240112</td>\n",
       "      <td>1150.0</td>\n",
       "    </tr>\n",
       "    <tr>\n",
       "      <td>...</td>\n",
       "      <td>...</td>\n",
       "      <td>...</td>\n",
       "      <td>...</td>\n",
       "      <td>...</td>\n",
       "      <td>...</td>\n",
       "      <td>...</td>\n",
       "      <td>...</td>\n",
       "    </tr>\n",
       "    <tr>\n",
       "      <td>0001256.jpg</td>\n",
       "      <td>0.229940</td>\n",
       "      <td>0.401573</td>\n",
       "      <td>15069.347656</td>\n",
       "      <td>15117.0</td>\n",
       "      <td>15324.0</td>\n",
       "      <td>856.533813</td>\n",
       "      <td>1603.0</td>\n",
       "    </tr>\n",
       "    <tr>\n",
       "      <td>0006029.jpg</td>\n",
       "      <td>0.070708</td>\n",
       "      <td>0.242952</td>\n",
       "      <td>4633.909180</td>\n",
       "      <td>4679.0</td>\n",
       "      <td>4710.0</td>\n",
       "      <td>501.362244</td>\n",
       "      <td>879.0</td>\n",
       "    </tr>\n",
       "    <tr>\n",
       "      <td>0011017.jpg</td>\n",
       "      <td>0.036541</td>\n",
       "      <td>0.175210</td>\n",
       "      <td>2394.726562</td>\n",
       "      <td>2382.0</td>\n",
       "      <td>2414.0</td>\n",
       "      <td>396.517181</td>\n",
       "      <td>557.0</td>\n",
       "    </tr>\n",
       "    <tr>\n",
       "      <td>0006996.jpg</td>\n",
       "      <td>0.127583</td>\n",
       "      <td>0.315166</td>\n",
       "      <td>8361.263672</td>\n",
       "      <td>8674.0</td>\n",
       "      <td>8391.0</td>\n",
       "      <td>848.085205</td>\n",
       "      <td>1961.0</td>\n",
       "    </tr>\n",
       "    <tr>\n",
       "      <td>0005984.jpg</td>\n",
       "      <td>0.118903</td>\n",
       "      <td>0.309803</td>\n",
       "      <td>7792.420898</td>\n",
       "      <td>7854.0</td>\n",
       "      <td>7954.0</td>\n",
       "      <td>574.021912</td>\n",
       "      <td>1053.0</td>\n",
       "    </tr>\n",
       "  </tbody>\n",
       "</table>\n",
       "<p>2403 rows × 7 columns</p>\n",
       "</div>"
      ],
      "text/plain": [
       "                 mean       std           sum   l_area  pred_area  \\\n",
       "0010696.jpg  0.122020  0.305096   7996.697754   9028.0     7875.0   \n",
       "0001343.jpg  0.103825  0.291343   6804.256836   6824.0     7003.0   \n",
       "0007889.jpg  0.056139  0.217791   3679.155029   3706.0     3747.0   \n",
       "0007897.jpg  0.059208  0.224016   3880.288086   3809.0     3958.0   \n",
       "0002507.jpg  0.120273  0.310487   7882.195312   8240.0     7987.0   \n",
       "...               ...       ...           ...      ...        ...   \n",
       "0001256.jpg  0.229940  0.401573  15069.347656  15117.0    15324.0   \n",
       "0006029.jpg  0.070708  0.242952   4633.909180   4679.0     4710.0   \n",
       "0011017.jpg  0.036541  0.175210   2394.726562   2382.0     2414.0   \n",
       "0006996.jpg  0.127583  0.315166   8361.263672   8674.0     8391.0   \n",
       "0005984.jpg  0.118903  0.309803   7792.420898   7854.0     7954.0   \n",
       "\n",
       "                    met1    met2  \n",
       "0010696.jpg  1126.610107  2414.0  \n",
       "0001343.jpg   530.424438   992.0  \n",
       "0007889.jpg   441.082550   685.0  \n",
       "0007897.jpg   431.650909   681.0  \n",
       "0002507.jpg   619.240112  1150.0  \n",
       "...                  ...     ...  \n",
       "0001256.jpg   856.533813  1603.0  \n",
       "0006029.jpg   501.362244   879.0  \n",
       "0011017.jpg   396.517181   557.0  \n",
       "0006996.jpg   848.085205  1961.0  \n",
       "0005984.jpg   574.021912  1053.0  \n",
       "\n",
       "[2403 rows x 7 columns]"
      ]
     },
     "execution_count": 65,
     "metadata": {},
     "output_type": "execute_result"
    }
   ],
   "source": [
    "uncdata"
   ]
  },
  {
   "cell_type": "code",
   "execution_count": 66,
   "metadata": {},
   "outputs": [],
   "source": [
    "uncdata = uncdata.join(dice)"
   ]
  },
  {
   "cell_type": "code",
   "execution_count": 95,
   "metadata": {},
   "outputs": [
    {
     "data": {
      "text/plain": [
       "(array([158., 593., 742., 496., 220., 109.,  38.,  19.,  20.,   8.]),\n",
       " array([  692. ,  2416.1,  4140.2,  5864.3,  7588.4,  9312.5, 11036.6, 12760.7, 14484.8, 16208.9, 17933. ]),\n",
       " <a list of 10 Patch objects>)"
      ]
     },
     "execution_count": 95,
     "metadata": {},
     "output_type": "execute_result"
    },
    {
     "data": {
      "image/png": "[encoded data removed]",
      "text/plain": [
       "<Figure size 432x288 with 1 Axes>"
      ]
     },
     "metadata": {
      "needs_background": "light"
     },
     "output_type": "display_data"
    }
   ],
   "source": [
    "plt.hist(uncdata['l_area'])"
   ]
  },
  {
   "cell_type": "code",
   "execution_count": 93,
   "metadata": {},
   "outputs": [
    {
     "data": {
      "text/plain": [
       "0.8577062148955821"
      ]
     },
     "execution_count": 93,
     "metadata": {},
     "output_type": "execute_result"
    }
   ],
   "source": [
    "(uncdata['met1']/uncdata['pred_area']).max()"
   ]
  },
  {
   "cell_type": "code",
   "execution_count": 94,
   "metadata": {},
   "outputs": [
    {
     "data": {
      "text/plain": [
       "<matplotlib.collections.PathCollection at 0x7f96dc4157f0>"
      ]
     },
     "execution_count": 94,
     "metadata": {},
     "output_type": "execute_result"
    },
    {
     "data": {
      "image/png": "[encoded data removed]",
      "text/plain": [
       "<Figure size 432x288 with 1 Axes>"
      ]
     },
     "metadata": {
      "needs_background": "light"
     },
     "output_type": "display_data"
    }
   ],
   "source": [
    "plt.scatter(uncdata['l_area'],uncdata['dice'])"
   ]
  },
  {
   "cell_type": "markdown",
   "metadata": {},
   "source": [
    "if an image has a met of <0.4, what is that chance it will be >93% dice? about 94%... not bad!"
   ]
  },
  {
   "cell_type": "code",
   "execution_count": 97,
   "metadata": {},
   "outputs": [
    {
     "data": {
      "text/plain": [
       "0.9429879317519767"
      ]
     },
     "execution_count": 97,
     "metadata": {},
     "output_type": "execute_result"
    }
   ],
   "source": [
    "(((uncdata['met']/uncdata['area'])<0.4) * uncdata['dice']>0.93).sum()/2403"
   ]
  },
  {
   "cell_type": "markdown",
   "metadata": {},
   "source": [
    "if you just let the model rip, what percentage of images have a dice >93%?"
   ]
  },
  {
   "cell_type": "code",
   "execution_count": 99,
   "metadata": {},
   "outputs": [
    {
     "data": {
      "text/plain": [
       "0.943404078235539"
      ]
     },
     "execution_count": 99,
     "metadata": {},
     "output_type": "execute_result"
    }
   ],
   "source": [
    "(uncdata['dice']>0.93).sum() /2403"
   ]
  },
  {
   "cell_type": "markdown",
   "metadata": {},
   "source": [
    "### Important\n",
    "\n",
    "np.log((uncdata['umet']+uncdata['lmet'])/uncdata['area']) is a measure of uncertainty the model has. \n",
    "\n",
    "it is the log of the sum of the upper and lower prediction bounds for each"
   ]
  },
  {
   "cell_type": "code",
   "execution_count": 195,
   "metadata": {},
   "outputs": [
    {
     "data": {
      "text/plain": [
       "<matplotlib.collections.PathCollection at 0x7f7d5de307f0>"
      ]
     },
     "execution_count": 195,
     "metadata": {},
     "output_type": "execute_result"
    },
    {
     "data": {
      "image/png": "[encoded data removed]",
      "text/plain": [
       "<Figure size 432x288 with 1 Axes>"
      ]
     },
     "metadata": {
      "needs_background": "light"
     },
     "output_type": "display_data"
    }
   ],
   "source": [
    "plt.scatter(1-np.log((uncdata['met2'])), uncdata['dice'])"
   ]
  },
  {
   "cell_type": "code",
   "execution_count": 73,
   "metadata": {},
   "outputs": [],
   "source": [
    "from sklearn.linear_model import LinearRegression"
   ]
  },
  {
   "cell_type": "code",
   "execution_count": 74,
   "metadata": {},
   "outputs": [],
   "source": [
    "reg = LinearRegression().fit(np.array((uncdata['pred_area'])).reshape(-1,1), uncdata['l_area'])"
   ]
  },
  {
   "cell_type": "code",
   "execution_count": 75,
   "metadata": {},
   "outputs": [
    {
     "data": {
      "text/plain": [
       "0.967581186510957"
      ]
     },
     "execution_count": 75,
     "metadata": {},
     "output_type": "execute_result"
    }
   ],
   "source": [
    "reg.score(np.array((uncdata['pred_area'])).reshape(-1,1), uncdata['l_area'])"
   ]
  },
  {
   "cell_type": "markdown",
   "metadata": {},
   "source": [
    "## Plots for the paper\n",
    "\n",
    "get the 5 worst, median and best segments"
   ]
  },
  {
   "cell_type": "code",
   "execution_count": 174,
   "metadata": {},
   "outputs": [],
   "source": [
    "which_ones = sorted_dices['path'][5:10].append(sorted_dices['path'][1200:1205]).append(sorted_dices['path'][-6:-1]);"
   ]
  },
  {
   "cell_type": "code",
   "execution_count": 175,
   "metadata": {},
   "outputs": [
    {
     "data": {
      "image/png": "[encoded data removed]",
      "text/plain": [
       "<Figure size 468x343.44 with 15 Axes>"
      ]
     },
     "metadata": {},
     "output_type": "display_data"
    }
   ],
   "source": [
    "analysis.worst_to_best(which_ones, sorted_dices, True)"
   ]
  },
  {
   "cell_type": "code",
   "execution_count": 83,
   "metadata": {},
   "outputs": [],
   "source": [
    "four = sorted_dices['path'][[\n",
    "                      '0009181.jpg',\n",
    "                      '0011011.jpg',\n",
    "                      '0002096.jpg',\n",
    "                      '0002089.jpg',\n",
    "                      '0010132.jpg',\n",
    "                      '0001134.jpg',\n",
    "                      '0002081.jpg',\n",
    "                        '0009684.jpg']]\n",
    "four = four[[0,2,4,-1]]"
   ]
  },
  {
   "cell_type": "code",
   "execution_count": 85,
   "metadata": {},
   "outputs": [
    {
     "data": {
      "image/png": "[encoded data removed]",
      "text/plain": [
       "<Figure size 468x343.44 with 4 Axes>"
      ]
     },
     "metadata": {},
     "output_type": "display_data"
    }
   ],
   "source": [
    "analysis.show_interestingx4(four, sorted_dices, False)"
   ]
  },
  {
   "cell_type": "code",
   "execution_count": 222,
   "metadata": {},
   "outputs": [
    {
     "data": {
      "text/plain": [
       "9.273381294964029"
      ]
     },
     "execution_count": 222,
     "metadata": {},
     "output_type": "execute_result"
    }
   ],
   "source": [
    "(97.12-58.45)/4.17"
   ]
  },
  {
   "cell_type": "code",
   "execution_count": null,
   "metadata": {},
   "outputs": [],
   "source": []
  }
 ],
 "metadata": {
  "kernelspec": {
   "display_name": "Python 3",
   "language": "python",
   "name": "python3"
  },
  "language_info": {
   "codemirror_mode": {
    "name": "ipython",
    "version": 3
   },
   "file_extension": ".py",
   "mimetype": "text/x-python",
   "name": "python",
   "nbconvert_exporter": "python",
   "pygments_lexer": "ipython3",
   "version": "3.6.9"
  }
 },
 "nbformat": 4,
 "nbformat_minor": 4
}
