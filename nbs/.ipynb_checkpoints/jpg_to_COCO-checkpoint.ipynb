{
 "cells": [
  {
   "cell_type": "markdown",
   "metadata": {},
   "source": [
    "# COCO-ify Dissection Dataset"
   ]
  },
  {
   "cell_type": "markdown",
   "metadata": {},
   "source": [
    "https://github.com/waspinator/pycococreator/blob/master/examples/shapes/shapes_to_coco.py for reference "
   ]
  },
  {
   "cell_type": "markdown",
   "metadata": {},
   "source": [
    "DOCKER FILE: abalajiaus/oct_ca:latest-fire or abalajiaus/oct_ca:latest-fire"
   ]
  },
  {
   "cell_type": "code",
   "execution_count": 1,
   "metadata": {},
   "outputs": [
    {
     "name": "stdout",
     "output_type": "stream",
     "text": [
      "Collecting git+git://github.com/waspinator/pycococreator.git@0.2.0\n",
      "  Cloning git://github.com/waspinator/pycococreator.git (to revision 0.2.0) to /tmp/pip-req-build-asssaz81\n",
      "  Running command git clone -q git://github.com/waspinator/pycococreator.git /tmp/pip-req-build-asssaz81\n",
      "  Running command git checkout -q fba8f4098f3c7aaa05fe119dc93bbe4063afdab8\n",
      "Requirement already satisfied: numpy in /opt/conda/lib/python3.6/site-packages (from pycococreatortools==0.2.0) (1.16.5)\n",
      "Requirement already satisfied: pillow in /opt/conda/lib/python3.6/site-packages (from pycococreatortools==0.2.0) (6.1.0)\n",
      "Requirement already satisfied: scikit-image in /opt/conda/lib/python3.6/site-packages (from pycococreatortools==0.2.0) (0.16.2)\n",
      "Requirement already satisfied: networkx>=2.0 in /opt/conda/lib/python3.6/site-packages (from scikit-image->pycococreatortools==0.2.0) (2.4)\n",
      "Requirement already satisfied: PyWavelets>=0.4.0 in /opt/conda/lib/python3.6/site-packages (from scikit-image->pycococreatortools==0.2.0) (1.1.1)\n",
      "Requirement already satisfied: imageio>=2.3.0 in /opt/conda/lib/python3.6/site-packages (from scikit-image->pycococreatortools==0.2.0) (2.8.0)\n",
      "Requirement already satisfied: scipy>=0.19.0 in /opt/conda/lib/python3.6/site-packages (from scikit-image->pycococreatortools==0.2.0) (1.4.1)\n",
      "Requirement already satisfied: matplotlib!=3.0.0,>=2.0.0 in /opt/conda/lib/python3.6/site-packages (from scikit-image->pycococreatortools==0.2.0) (3.2.1)\n",
      "Requirement already satisfied: decorator>=4.3.0 in /opt/conda/lib/python3.6/site-packages (from networkx>=2.0->scikit-image->pycococreatortools==0.2.0) (4.4.0)\n",
      "Requirement already satisfied: pyparsing!=2.0.4,!=2.1.2,!=2.1.6,>=2.0.1 in /opt/conda/lib/python3.6/site-packages (from matplotlib!=3.0.0,>=2.0.0->scikit-image->pycococreatortools==0.2.0) (2.4.7)\n",
      "Requirement already satisfied: kiwisolver>=1.0.1 in /opt/conda/lib/python3.6/site-packages (from matplotlib!=3.0.0,>=2.0.0->scikit-image->pycococreatortools==0.2.0) (1.2.0)\n",
      "Requirement already satisfied: cycler>=0.10 in /opt/conda/lib/python3.6/site-packages (from matplotlib!=3.0.0,>=2.0.0->scikit-image->pycococreatortools==0.2.0) (0.10.0)\n",
      "Requirement already satisfied: python-dateutil>=2.1 in /opt/conda/lib/python3.6/site-packages (from matplotlib!=3.0.0,>=2.0.0->scikit-image->pycococreatortools==0.2.0) (2.8.1)\n",
      "Requirement already satisfied: six in /opt/conda/lib/python3.6/site-packages (from cycler>=0.10->matplotlib!=3.0.0,>=2.0.0->scikit-image->pycococreatortools==0.2.0) (1.12.0)\n",
      "Building wheels for collected packages: pycococreatortools\n",
      "  Building wheel for pycococreatortools (setup.py) ... \u001b[?25ldone\n",
      "\u001b[?25h  Created wheel for pycococreatortools: filename=pycococreatortools-0.2.0-py3-none-any.whl size=7188 sha256=bf09dc17d7e2a02adfbec40defd48dcf7c9a3adbf1c502d26a0157775e50be59\n",
      "  Stored in directory: /tmp/pip-ephem-wheel-cache-w7oknsye/wheels/31/49/b4/603bcbbca4b264e0f1189ebc2db4352d8a5720d746fc6c799c\n",
      "Successfully built pycococreatortools\n",
      "Installing collected packages: pycococreatortools\n",
      "Successfully installed pycococreatortools-0.2.0\n",
      "\u001b[33mWARNING: You are using pip version 20.0.2; however, version 20.1.1 is available.\n",
      "You should consider upgrading via the '/opt/conda/bin/python -m pip install --upgrade pip' command.\u001b[0m\n",
      "CPU times: user 73.3 ms, sys: 36.7 ms, total: 110 ms\n",
      "Wall time: 3.8 s\n"
     ]
    }
   ],
   "source": [
    "%%time\n",
    "!pip install git+git://github.com/waspinator/pycococreator.git@0.2.0"
   ]
  },
  {
   "cell_type": "code",
   "execution_count": 2,
   "metadata": {},
   "outputs": [
    {
     "name": "stdout",
     "output_type": "stream",
     "text": [
      "Collecting git+git://github.com/waspinator/coco.git@2.1.0\n",
      "  Cloning git://github.com/waspinator/coco.git (to revision 2.1.0) to /tmp/pip-req-build-sm41vszh\n",
      "  Running command git clone -q git://github.com/waspinator/coco.git /tmp/pip-req-build-sm41vszh\n",
      "  Running command git checkout -q cd69b031a5dafdd40c0b2c52bd4a9c5d7f11382e\n",
      "Requirement already satisfied: numpy in /opt/conda/lib/python3.6/site-packages (from pycocotools==2.1) (1.16.5)\n",
      "Requirement already satisfied: cython in /opt/conda/lib/python3.6/site-packages (from pycocotools==2.1) (0.29.16)\n",
      "Building wheels for collected packages: pycocotools\n",
      "  Building wheel for pycocotools (setup.py) ... \u001b[?25ldone\n",
      "\u001b[?25h  Created wheel for pycocotools: filename=pycocotools-2.1-cp36-cp36m-linux_x86_64.whl size=299500 sha256=e4f53f5dad203b6bc17e15d140bf24a03092e0523c1282c7ab9d295dc012af6a\n",
      "  Stored in directory: /tmp/pip-ephem-wheel-cache-bg37s7_b/wheels/6a/fc/7d/91a76da8191691d4dc7c7144306007ce6472cb24f51051603e\n",
      "Successfully built pycocotools\n",
      "Installing collected packages: pycocotools\n",
      "Successfully installed pycocotools-2.1\n",
      "\u001b[33mWARNING: You are using pip version 20.0.2; however, version 20.1.1 is available.\n",
      "You should consider upgrading via the '/opt/conda/bin/python -m pip install --upgrade pip' command.\u001b[0m\n",
      "CPU times: user 269 ms, sys: 59.8 ms, total: 329 ms\n",
      "Wall time: 13.1 s\n"
     ]
    }
   ],
   "source": [
    "%%time\n",
    "!pip install git+git://github.com/waspinator/coco.git@2.1.0"
   ]
  },
  {
   "cell_type": "code",
   "execution_count": 3,
   "metadata": {},
   "outputs": [],
   "source": [
    "from pycocotools.coco import COCO\n",
    "import pycococreatortools.pycococreatortools as creator"
   ]
  },
  {
   "cell_type": "code",
   "execution_count": 4,
   "metadata": {},
   "outputs": [],
   "source": [
    "import pycocotools.mask as m"
   ]
  },
  {
   "cell_type": "code",
   "execution_count": 35,
   "metadata": {},
   "outputs": [],
   "source": [
    "from pathlib import Path\n",
    "from fastai.vision import get_files\n",
    "import PIL.Image as Image\n",
    "import numpy as np\n",
    "import matplotlib.pyplot as plt\n",
    "import datetime\n",
    "import json\n",
    "from scipy.ndimage.measurements import label\n",
    "import os\n",
    "import shutil"
   ]
  },
  {
   "cell_type": "code",
   "execution_count": 159,
   "metadata": {},
   "outputs": [],
   "source": [
    "def OCTDataToCOCO(im_path):\n",
    "    INFO = {\n",
    "        \"description\": \"OCT dataset\",\n",
    "        \"url\": \"tba\",\n",
    "        \"version\": \"0.1.0\",\n",
    "        \"year\": 2020,\n",
    "        \"contributor\": \"abalajiaus\",\n",
    "        \"date_created\": datetime.datetime.utcnow().isoformat(' ')\n",
    "    }\n",
    "\n",
    "    LICENSES = [\n",
    "        {\n",
    "            \"id\": 1,\n",
    "            \"name\": \"VASCLAB\",\n",
    "            \"url\": \"VASCLAB\"\n",
    "        }\n",
    "    ]\n",
    "\n",
    "    CATEGORIES = [\n",
    "        {\n",
    "            'id': 1,\n",
    "            'name': 'lumen',\n",
    "            'supercategory': 'feature',\n",
    "        }\n",
    "\n",
    "    ]\n",
    "    coco = {\n",
    "            \"info\": INFO,\n",
    "            \"licenses\": LICENSES,\n",
    "            \"categories\": CATEGORIES,\n",
    "            \"images\": [],\n",
    "            \"annotations\": []}\n",
    "    \n",
    "    label_path = im_path.parent/'labels'\n",
    "    i=1\n",
    "    anno_id = 0 #anno_id has to be unique\n",
    "    for image_path in get_files(im_path, extensions='.jpg'):\n",
    "        image = Image.open(image_path)\n",
    "        image_id = image_path.name\n",
    "        anno_path = label_path/image_id\n",
    "        gt = Image.open(anno_path)\n",
    "\n",
    "        assert (anno_path.stem == image_path.stem) # make sure label and image are corresponding\n",
    "        assert (gt.size==image.size)\n",
    "        gt = (np.array(gt)>200).astype(int)[:,:,0]\n",
    "        assert (np.array_equal(gt, gt.astype(bool))) #make sure label is binary\n",
    "\n",
    "        lab, num_instances = label(gt)\n",
    "\n",
    "        image_info = creator.create_image_info(i,\n",
    "                                                str(image_path),\n",
    "                                                image.size)\n",
    "        \n",
    "        image_info['annotations'] = []\n",
    "        \n",
    "        for n in range(num_instances):\n",
    "            tl=(lab==(n+1)).astype(int)\n",
    "            category_info = {'id': 1, 'is_crowd': 0} #play with 1 or 0 here\n",
    "            annotation_info = creator.create_annotation_info(anno_id,\n",
    "                                                             i,\n",
    "                                                             category_info,\n",
    "                                                             tl,\n",
    "                                                             image_size=image.size,\n",
    "                                                             tolerance=1)\n",
    "\n",
    "            if annotation_info is not None:\n",
    "                annotation_info['bbox_mode']=0\n",
    "                coco['annotations'].append(annotation_info)\n",
    "                image_info['annotations'].append(annotation_info)\n",
    "                anno_id+=1\n",
    "        \n",
    "        \n",
    "        image_info['image_id'] = i\n",
    "        image_info['sem_seg_file_name'] = str(anno_path)\n",
    "        coco['images'].append(image_info)\n",
    "        \n",
    "        #if num_instances>1:\n",
    "        #    pdb.set_trace()    \n",
    "            \n",
    "        #    return (image, image_info, l, tl, annotation_info)\n",
    "        #    \n",
    "        '''if annotation_info is not None:\n",
    "            coco['annotations'].append(annotation_info)'''\n",
    "        i+=1\n",
    "        #if i%1000==0: print(i)\n",
    "    return coco"
   ]
  },
  {
   "cell_type": "markdown",
   "metadata": {},
   "source": [
    "## Reformat data structure to include train, validation, test\n"
   ]
  },
  {
   "cell_type": "code",
   "execution_count": 160,
   "metadata": {},
   "outputs": [],
   "source": [
    "original_data_path = Path('/workspace/oct_ca_seg/data_oct/')"
   ]
  },
  {
   "cell_type": "code",
   "execution_count": 157,
   "metadata": {},
   "outputs": [],
   "source": [
    "COCO_path = Path('/workspace/oct_ca_seg/COCOdata/')\n",
    "train = COCO_path/'train'\n",
    "valid = COCO_path/'valid'\n",
    "test = COCO_path/'test'"
   ]
  },
  {
   "cell_type": "code",
   "execution_count": 38,
   "metadata": {},
   "outputs": [
    {
     "name": "stdout",
     "output_type": "stream",
     "text": [
      "CPU times: user 2.91 s, sys: 1.93 s, total: 4.84 s\n",
      "Wall time: 8.21 s\n"
     ]
    }
   ],
   "source": [
    "%%time\n",
    "for d in get_files(original_data_path, recurse=True, extensions='.jpg'):\n",
    "    #print(d.stem, d.parent.name)\n",
    "    stem = int(d.stem)\n",
    "    parent = d.parent.name\n",
    "    \n",
    "\n",
    "    if stem <8408: t = train\n",
    "    elif stem > 8408 and stem <11011: t = valid\n",
    "    elif stem >11011: t = test\n",
    "    \n",
    "    dest = t/(parent + '/' + d.name)\n",
    "    \n",
    "    shutil.copy(d, dest)"
   ]
  },
  {
   "cell_type": "code",
   "execution_count": 161,
   "metadata": {},
   "outputs": [
    {
     "name": "stdout",
     "output_type": "stream",
     "text": [
      "CPU times: user 2min 21s, sys: 5.35 s, total: 2min 26s\n",
      "Wall time: 2min 26s\n"
     ]
    }
   ],
   "source": [
    "%%time\n",
    "trains = OCTDataToCOCO(train/'images')"
   ]
  },
  {
   "cell_type": "code",
   "execution_count": 162,
   "metadata": {},
   "outputs": [
    {
     "data": {
      "text/plain": [
       "(8410, 8410)"
      ]
     },
     "execution_count": 162,
     "metadata": {},
     "output_type": "execute_result"
    }
   ],
   "source": [
    "len(trains['images']), len(trains['annotations'])"
   ]
  },
  {
   "cell_type": "code",
   "execution_count": 164,
   "metadata": {},
   "outputs": [
    {
     "name": "stdout",
     "output_type": "stream",
     "text": [
      "CPU times: user 43.3 s, sys: 318 ms, total: 43.6 s\n",
      "Wall time: 44.2 s\n"
     ]
    }
   ],
   "source": [
    "%%time\n",
    "valids = OCTDataToCOCO(valid/'images')"
   ]
  },
  {
   "cell_type": "code",
   "execution_count": 166,
   "metadata": {},
   "outputs": [
    {
     "data": {
      "text/plain": [
       "(2602, 2602)"
      ]
     },
     "execution_count": 166,
     "metadata": {},
     "output_type": "execute_result"
    }
   ],
   "source": [
    "len(valids['images']), len(valids['annotations'])"
   ]
  },
  {
   "cell_type": "code",
   "execution_count": 167,
   "metadata": {},
   "outputs": [
    {
     "name": "stdout",
     "output_type": "stream",
     "text": [
      "CPU times: user 16 s, sys: 95.5 ms, total: 16.1 s\n",
      "Wall time: 16.1 s\n"
     ]
    }
   ],
   "source": [
    "%%time\n",
    "tests = OCTDataToCOCO(test/'images')"
   ]
  },
  {
   "cell_type": "code",
   "execution_count": 169,
   "metadata": {},
   "outputs": [
    {
     "data": {
      "text/plain": [
       "(999, 999)"
      ]
     },
     "execution_count": 169,
     "metadata": {},
     "output_type": "execute_result"
    }
   ],
   "source": [
    "len(tests['images']), len(tests['annotations'])"
   ]
  },
  {
   "cell_type": "code",
   "execution_count": 28,
   "metadata": {},
   "outputs": [
    {
     "data": {
      "text/plain": [
       "dict_keys(['id', 'file_name', 'width', 'height', 'date_captured', 'license', 'coco_url', 'flickr_url', 'annotations', 'image_id', 'sem_seg_file_name'])"
      ]
     },
     "execution_count": 28,
     "metadata": {},
     "output_type": "execute_result"
    }
   ],
   "source": [
    "valids['images'][10].keys()"
   ]
  },
  {
   "cell_type": "code",
   "execution_count": 171,
   "metadata": {},
   "outputs": [],
   "source": [
    "with open(train/'images/annotations.json', 'w') as output_json_file:\n",
    "    json.dump(trains, output_json_file)"
   ]
  },
  {
   "cell_type": "code",
   "execution_count": 172,
   "metadata": {},
   "outputs": [],
   "source": [
    "with open(valid/'images/annotations.json', 'w') as output_json_file:\n",
    "    json.dump(valids, output_json_file)"
   ]
  },
  {
   "cell_type": "code",
   "execution_count": 173,
   "metadata": {},
   "outputs": [],
   "source": [
    "with open(test/'images/annotations.json', 'w') as output_json_file:\n",
    "    json.dump(tests, output_json_file)"
   ]
  },
  {
   "cell_type": "markdown",
   "metadata": {},
   "source": [
    "Difference is because some annotations are blank and thus arent added."
   ]
  },
  {
   "cell_type": "markdown",
   "metadata": {},
   "source": [
    "# Visualise COCO dataset"
   ]
  },
  {
   "cell_type": "markdown",
   "metadata": {},
   "source": [
    "https://github.com/waspinator/pycococreator/blob/master/examples/shapes/visualize_coco.ipynb for reference"
   ]
  },
  {
   "cell_type": "code",
   "execution_count": 174,
   "metadata": {},
   "outputs": [
    {
     "data": {
      "text/plain": [
       "PosixPath('/workspace/oct_ca_seg/COCOdata/train')"
      ]
     },
     "execution_count": 174,
     "metadata": {},
     "output_type": "execute_result"
    }
   ],
   "source": [
    "train"
   ]
  },
  {
   "cell_type": "code",
   "execution_count": 175,
   "metadata": {},
   "outputs": [],
   "source": [
    "anno_file = train/'images/annotations.json'"
   ]
  },
  {
   "cell_type": "code",
   "execution_count": 176,
   "metadata": {},
   "outputs": [
    {
     "name": "stdout",
     "output_type": "stream",
     "text": [
      "loading annotations into memory...\n",
      "Done (t=0.43s)\n",
      "creating index...\n",
      "index created!\n"
     ]
    }
   ],
   "source": [
    "coco_dataset = COCO(anno_file)"
   ]
  },
  {
   "cell_type": "code",
   "execution_count": 177,
   "metadata": {},
   "outputs": [],
   "source": [
    "categories = coco_dataset.loadCats(coco_dataset.getCatIds())"
   ]
  },
  {
   "cell_type": "code",
   "execution_count": 178,
   "metadata": {},
   "outputs": [
    {
     "data": {
      "text/plain": [
       "[{'id': 1, 'name': 'lumen', 'supercategory': 'feature'}]"
      ]
     },
     "execution_count": 178,
     "metadata": {},
     "output_type": "execute_result"
    }
   ],
   "source": [
    "categories"
   ]
  },
  {
   "cell_type": "code",
   "execution_count": 179,
   "metadata": {},
   "outputs": [],
   "source": [
    "category_ids = coco_dataset.getCatIds(catNms=['lumen'])"
   ]
  },
  {
   "cell_type": "code",
   "execution_count": 180,
   "metadata": {},
   "outputs": [
    {
     "data": {
      "text/plain": [
       "[1]"
      ]
     },
     "execution_count": 180,
     "metadata": {},
     "output_type": "execute_result"
    }
   ],
   "source": [
    "category_ids"
   ]
  },
  {
   "cell_type": "code",
   "execution_count": 181,
   "metadata": {},
   "outputs": [],
   "source": [
    "image_ids = coco_dataset.getImgIds(catIds=category_ids)"
   ]
  },
  {
   "cell_type": "code",
   "execution_count": 182,
   "metadata": {},
   "outputs": [
    {
     "data": {
      "text/plain": [
       "[1, 2, 3, 4, 5]"
      ]
     },
     "execution_count": 182,
     "metadata": {},
     "output_type": "execute_result"
    }
   ],
   "source": [
    "image_ids[0:5]"
   ]
  },
  {
   "cell_type": "code",
   "execution_count": 183,
   "metadata": {},
   "outputs": [],
   "source": [
    "import pylab\n",
    "import skimage.io as io"
   ]
  },
  {
   "cell_type": "code",
   "execution_count": 190,
   "metadata": {},
   "outputs": [
    {
     "data": {
      "image/png": "[encoded data removed]",
      "text/plain": [
       "<Figure size 576x720 with 1 Axes>"
      ]
     },
     "metadata": {
      "needs_background": "light"
     },
     "output_type": "display_data"
    }
   ],
   "source": [
    "image_data = coco_dataset.loadImgs(image_ids[np.random.randint(0, len(image_ids))])[0]\n",
    "\n",
    "# load and display instance annotations\n",
    "image = io.imread(image_data['file_name'])\n",
    "\n",
    "plt.imshow(image); plt.axis('off')\n",
    "pylab.rcParams['figure.figsize'] = (8.0, 10.0)\n",
    "annotation_ids = coco_dataset.getAnnIds(imgIds=image_data['id'], catIds=category_ids, iscrowd=None)\n",
    "annotations = coco_dataset.loadAnns(annotation_ids)\n",
    "coco_dataset.showAnns(annotations)"
   ]
  },
  {
   "cell_type": "code",
   "execution_count": null,
   "metadata": {},
   "outputs": [],
   "source": []
  }
 ],
 "metadata": {
  "kernelspec": {
   "display_name": "Python 3",
   "language": "python",
   "name": "python3"
  },
  "language_info": {
   "codemirror_mode": {
    "name": "ipython",
    "version": 3
   },
   "file_extension": ".py",
   "mimetype": "text/x-python",
   "name": "python",
   "nbconvert_exporter": "python",
   "pygments_lexer": "ipython3",
   "version": "3.6.9"
  }
 },
 "nbformat": 4,
 "nbformat_minor": 4
}
