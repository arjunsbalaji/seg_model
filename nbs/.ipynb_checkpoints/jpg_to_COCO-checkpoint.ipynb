{
 "cells": [
  {
   "cell_type": "markdown",
   "metadata": {},
   "source": [
    "# COCO-ify Dissection Dataset"
   ]
  },
  {
   "cell_type": "markdown",
   "metadata": {},
   "source": [
    "https://github.com/waspinator/pycococreator/blob/master/examples/shapes/shapes_to_coco.py for reference "
   ]
  },
  {
   "cell_type": "markdown",
   "metadata": {},
   "source": [
    "DOCKER FILE: abalajiaus/oct_ca:latest-fire or abalajiaus/oct_ca:latest-fire"
   ]
  },
  {
   "cell_type": "code",
   "execution_count": null,
   "metadata": {},
   "outputs": [],
   "source": [
    "%%time\n",
    "!pip install git+git://github.com/waspinator/pycococreator.git@0.2.0"
   ]
  },
  {
   "cell_type": "code",
   "execution_count": null,
   "metadata": {},
   "outputs": [],
   "source": [
    "%%time\n",
    "!pip install git+git://github.com/waspinator/coco.git@2.1.0"
   ]
  },
  {
   "cell_type": "code",
   "execution_count": null,
   "metadata": {},
   "outputs": [],
   "source": [
    "from pycocotools.coco import COCO\n",
    "import pycococreatortools.pycococreatortools as creator"
   ]
  },
  {
   "cell_type": "code",
   "execution_count": null,
   "metadata": {},
   "outputs": [],
   "source": [
    "import pycocotools.mask as m"
   ]
  },
  {
   "cell_type": "code",
   "execution_count": null,
   "metadata": {},
   "outputs": [],
   "source": [
    "from pathlib import Path\n",
    "from fastai.vision import get_files\n",
    "import PIL.Image as Image\n",
    "import numpy as np\n",
    "import matplotlib.pyplot as plt\n",
    "import datetime\n",
    "import json\n",
    "from scipy.ndimage.measurements import label\n",
    "import os\n",
    "import shutil"
   ]
  },
  {
   "cell_type": "code",
   "execution_count": null,
   "metadata": {},
   "outputs": [],
   "source": [
    "def OCTDataToCOCO(im_path):\n",
    "    INFO = {\n",
    "        \"description\": \"OCT dataset\",\n",
    "        \"url\": \"tba\",\n",
    "        \"version\": \"0.1.0\",\n",
    "        \"year\": 2020,\n",
    "        \"contributor\": \"abalajiaus\",\n",
    "        \"date_created\": datetime.datetime.utcnow().isoformat(' ')\n",
    "    }\n",
    "\n",
    "    LICENSES = [\n",
    "        {\n",
    "            \"id\": 1,\n",
    "            \"name\": \"VASCLAB\",\n",
    "            \"url\": \"VASCLAB\"\n",
    "        }\n",
    "    ]\n",
    "\n",
    "    CATEGORIES = [\n",
    "        {\n",
    "            'id': 1,\n",
    "            'name': 'lumen',\n",
    "            'supercategory': 'feature',\n",
    "        }\n",
    "\n",
    "    ]\n",
    "    coco = {\n",
    "            \"info\": INFO,\n",
    "            \"licenses\": LICENSES,\n",
    "            \"categories\": CATEGORIES,\n",
    "            \"images\": [],\n",
    "            \"annotations\": []}\n",
    "    \n",
    "    label_path = im_path.parent/'labels'\n",
    "    i=1\n",
    "    anno_id = 0 #anno_id has to be unique\n",
    "    for image_path in get_files(im_path, extensions='.jpg'):\n",
    "        image = Image.open(image_path)\n",
    "        image_id = image_path.name\n",
    "        anno_path = label_path/image_id\n",
    "        gt = Image.open(anno_path)\n",
    "\n",
    "        assert (anno_path.stem == image_path.stem) # make sure label and image are corresponding\n",
    "        assert (gt.size==image.size)\n",
    "        gt = (np.array(gt)>200).astype(int)[:,:,0]\n",
    "        assert (np.array_equal(gt, gt.astype(bool))) #make sure label is binary\n",
    "\n",
    "        lab, num_instances = label(gt)\n",
    "\n",
    "        image_info = creator.create_image_info(i,\n",
    "                                                str(image_path),\n",
    "                                                image.size)\n",
    "        \n",
    "        image_info['annotations'] = []\n",
    "        \n",
    "        for n in range(num_instances):\n",
    "            tl=(lab==(n+1)).astype(int)\n",
    "            category_info = {'id': 1, 'is_crowd': 0} #play with 1 or 0 here\n",
    "            annotation_info = creator.create_annotation_info(anno_id,\n",
    "                                                             i,\n",
    "                                                             category_info,\n",
    "                                                             tl,\n",
    "                                                             image_size=image.size,\n",
    "                                                             tolerance=1)\n",
    "\n",
    "            if annotation_info is not None:\n",
    "                annotation_info['bbox_mode']=0\n",
    "                coco['annotations'].append(annotation_info)\n",
    "                image_info['annotations'].append(annotation_info)\n",
    "                anno_id+=1\n",
    "        \n",
    "        \n",
    "        image_info['image_id'] = i\n",
    "        image_info['sem_seg_file_name'] = str(anno_path)\n",
    "        coco['images'].append(image_info)\n",
    "        \n",
    "        #if num_instances>1:\n",
    "        #    pdb.set_trace()    \n",
    "            \n",
    "        #    return (image, image_info, l, tl, annotation_info)\n",
    "        #    \n",
    "        '''if annotation_info is not None:\n",
    "            coco['annotations'].append(annotation_info)'''\n",
    "        i+=1\n",
    "        #if i%1000==0: print(i)\n",
    "    return coco"
   ]
  },
  {
   "cell_type": "markdown",
   "metadata": {},
   "source": [
    "## Reformat data structure to include train, validation, test\n"
   ]
  },
  {
   "cell_type": "code",
   "execution_count": null,
   "metadata": {},
   "outputs": [],
   "source": [
    "original_data_path = Path('/workspace/oct_ca_seg/data_oct/')"
   ]
  },
  {
   "cell_type": "code",
   "execution_count": null,
   "metadata": {},
   "outputs": [],
   "source": [
    "COCO_path = Path('/workspace/oct_ca_seg/COCOdata/')\n",
    "train = COCO_path/'train'\n",
    "valid = COCO_path/'valid'\n",
    "test = COCO_path/'test'"
   ]
  },
  {
   "cell_type": "code",
   "execution_count": null,
   "metadata": {},
   "outputs": [],
   "source": [
    "%%time\n",
    "for d in get_files(original_data_path, recurse=True, extensions='.jpg'):\n",
    "    #print(d.stem, d.parent.name)\n",
    "    stem = int(d.stem)\n",
    "    parent = d.parent.name\n",
    "    \n",
    "\n",
    "    if stem <8408: t = train\n",
    "    elif stem > 8408 and stem <11011: t = valid\n",
    "    elif stem >11011: t = test\n",
    "    \n",
    "    dest = t/(parent + '/' + d.name)\n",
    "    \n",
    "    shutil.copy(d, dest)"
   ]
  },
  {
   "cell_type": "code",
   "execution_count": null,
   "metadata": {},
   "outputs": [],
   "source": [
    "%%time\n",
    "trains = OCTDataToCOCO(train/'images')"
   ]
  },
  {
   "cell_type": "code",
   "execution_count": null,
   "metadata": {},
   "outputs": [],
   "source": [
    "len(trains['images']), len(trains['annotations'])"
   ]
  },
  {
   "cell_type": "code",
   "execution_count": null,
   "metadata": {},
   "outputs": [],
   "source": [
    "%%time\n",
    "valids = OCTDataToCOCO(valid/'images')"
   ]
  },
  {
   "cell_type": "code",
   "execution_count": null,
   "metadata": {},
   "outputs": [],
   "source": [
    "len(valids['images']), len(valids['annotations'])"
   ]
  },
  {
   "cell_type": "code",
   "execution_count": null,
   "metadata": {},
   "outputs": [],
   "source": [
    "%%time\n",
    "tests = OCTDataToCOCO(test/'images')"
   ]
  },
  {
   "cell_type": "code",
   "execution_count": null,
   "metadata": {},
   "outputs": [],
   "source": [
    "len(tests['images']), len(tests['annotations'])"
   ]
  },
  {
   "cell_type": "code",
   "execution_count": null,
   "metadata": {},
   "outputs": [],
   "source": [
    "valids['images'][10].keys()"
   ]
  },
  {
   "cell_type": "code",
   "execution_count": null,
   "metadata": {},
   "outputs": [],
   "source": [
    "with open(train/'images/annotations_medium.json', 'w') as output_json_file:\n",
    "    json.dump(trains, output_json_file)"
   ]
  },
  {
   "cell_type": "code",
   "execution_count": null,
   "metadata": {},
   "outputs": [],
   "source": [
    "with open(valid/'images/annotations_medium.json', 'w') as output_json_file:\n",
    "    json.dump(valids, output_json_file)"
   ]
  },
  {
   "cell_type": "code",
   "execution_count": null,
   "metadata": {},
   "outputs": [],
   "source": [
    "with open(test/'images/annotations_medium.json', 'w') as output_json_file:\n",
    "    json.dump(tests, output_json_file)"
   ]
  },
  {
   "cell_type": "markdown",
   "metadata": {},
   "source": [
    "Difference is because some annotations are blank and thus arent added."
   ]
  },
  {
   "cell_type": "markdown",
   "metadata": {},
   "source": [
    "# Visualise COCO dataset"
   ]
  },
  {
   "cell_type": "markdown",
   "metadata": {},
   "source": [
    "https://github.com/waspinator/pycococreator/blob/master/examples/shapes/visualize_coco.ipynb for reference"
   ]
  },
  {
   "cell_type": "code",
   "execution_count": null,
   "metadata": {},
   "outputs": [],
   "source": [
    "train"
   ]
  },
  {
   "cell_type": "code",
   "execution_count": null,
   "metadata": {},
   "outputs": [],
   "source": [
    "anno_file = train/'images/annotations.json'"
   ]
  },
  {
   "cell_type": "code",
   "execution_count": null,
   "metadata": {},
   "outputs": [],
   "source": [
    "coco_dataset = COCO(anno_file)"
   ]
  },
  {
   "cell_type": "code",
   "execution_count": null,
   "metadata": {},
   "outputs": [],
   "source": [
    "categories = coco_dataset.loadCats(coco_dataset.getCatIds())"
   ]
  },
  {
   "cell_type": "code",
   "execution_count": null,
   "metadata": {},
   "outputs": [],
   "source": [
    "categories"
   ]
  },
  {
   "cell_type": "code",
   "execution_count": null,
   "metadata": {},
   "outputs": [],
   "source": [
    "category_ids = coco_dataset.getCatIds(catNms=['lumen'])"
   ]
  },
  {
   "cell_type": "code",
   "execution_count": null,
   "metadata": {},
   "outputs": [],
   "source": [
    "category_ids"
   ]
  },
  {
   "cell_type": "code",
   "execution_count": null,
   "metadata": {},
   "outputs": [],
   "source": [
    "image_ids = coco_dataset.getImgIds(catIds=category_ids)"
   ]
  },
  {
   "cell_type": "code",
   "execution_count": null,
   "metadata": {},
   "outputs": [],
   "source": [
    "image_ids[0:5]"
   ]
  },
  {
   "cell_type": "code",
   "execution_count": null,
   "metadata": {},
   "outputs": [],
   "source": [
    "import pylab\n",
    "import skimage.io as io"
   ]
  },
  {
   "cell_type": "code",
   "execution_count": null,
   "metadata": {},
   "outputs": [],
   "source": [
    "image_data = coco_dataset.loadImgs(image_ids[np.random.randint(0, len(image_ids))])[0]\n",
    "\n",
    "# load and display instance annotations\n",
    "image = io.imread(image_data['file_name'])\n",
    "\n",
    "plt.imshow(image); plt.axis('off')\n",
    "pylab.rcParams['figure.figsize'] = (8.0, 10.0)\n",
    "annotation_ids = coco_dataset.getAnnIds(imgIds=image_data['id'], catIds=category_ids, iscrowd=None)\n",
    "annotations = coco_dataset.loadAnns(annotation_ids)\n",
    "coco_dataset.showAnns(annotations)"
   ]
  },
  {
   "cell_type": "code",
   "execution_count": null,
   "metadata": {},
   "outputs": [],
   "source": []
  }
 ],
 "metadata": {
  "kernelspec": {
   "display_name": "Python 3",
   "language": "python",
   "name": "python3"
  },
  "language_info": {
   "codemirror_mode": {
    "name": "ipython",
    "version": 3
   },
   "file_extension": ".py",
   "mimetype": "text/x-python",
   "name": "python",
   "nbconvert_exporter": "python",
   "pygments_lexer": "ipython3",
   "version": "3.6.9"
  }
 },
 "nbformat": 4,
 "nbformat_minor": 4
}
